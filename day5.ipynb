{
 "cells": [
  {
   "cell_type": "code",
   "execution_count": 3,
   "metadata": {},
   "outputs": [
    {
     "name": "stdout",
     "output_type": "stream",
     "text": [
      "{1: 2, 2: 3, 3: 5, 4: 7}\n",
      "2\n",
      "7\n"
     ]
    }
   ],
   "source": [
    "# dictionary\n",
    "\n",
    "index_to_prime = { 1 : 2, 2 : 3, 3 : 5, 4 : 7 }\n",
    "# this is the prime number dictionary (part)\n",
    "\n",
    "print(index_to_prime)\n",
    "print(index_to_prime[1])\n",
    "print(index_to_prime[4])"
   ]
  },
  {
   "cell_type": "code",
   "execution_count": 7,
   "metadata": {},
   "outputs": [
    {
     "name": "stdout",
     "output_type": "stream",
     "text": [
      "{'123': '456', 5: -9}\n",
      "{'s': [1, 2, 3], 5: {1: 2}}\n"
     ]
    }
   ],
   "source": [
    "# dictrionary = {key1 : value1, key2 : value2, key3, value3}\n",
    "dic1 = {'123' : '456', 5 : -9}\n",
    "print(dic1)\n",
    "dic2 = {'s' : [1, 2, 3], 5 : {1 : 2}}\n",
    "print(dic2)\n",
    "# list cannot be a key, usually key is number or string"
   ]
  },
  {
   "cell_type": "code",
   "execution_count": 13,
   "metadata": {},
   "outputs": [
    {
     "name": "stdout",
     "output_type": "stream",
     "text": [
      "{}\n",
      "{0: 1}\n",
      "{0: 2}\n",
      "{0: 7}\n",
      "{0: 7, 2: -2}\n"
     ]
    }
   ],
   "source": [
    "dic1 = {} # empty dictionary\n",
    "print(dic1)\n",
    "dic1[0] = 1 # add a key-value pair\n",
    "print(dic1)\n",
    "dic1[0] = 2 # key is only/unique\n",
    "print(dic1)\n",
    "dic1[0] += 5\n",
    "print(dic1)\n",
    "dic1[2] = -2\n",
    "print(dic1)"
   ]
  },
  {
   "cell_type": "code",
   "execution_count": 17,
   "metadata": {},
   "outputs": [
    {
     "name": "stdout",
     "output_type": "stream",
     "text": [
      "{0: 7, 2: -2}\n",
      "2\n",
      "0\t7\n",
      "2\t-2\n",
      "0\t7\n",
      "2\t-2\n",
      "dict_items([(0, 7), (2, -2)])\n"
     ]
    }
   ],
   "source": [
    "print(dic1)\n",
    "print(len(dic1))\n",
    "for k in dic1: # k is a key\n",
    "    print(str(k) + '\\t' + str(dic1[k]))\n",
    "\n",
    "for k, v in dic1.items():\n",
    "    print(str(k) + '\\t' + str(v))\n",
    "\n",
    "print(dic1.items())"
   ]
  },
  {
   "cell_type": "code",
   "execution_count": 21,
   "metadata": {},
   "outputs": [
    {
     "name": "stdout",
     "output_type": "stream",
     "text": [
      "dict_keys([1, 2, 3])\n",
      "1\n",
      "2\n",
      "3\n",
      "dict_values(['111', '222', '333'])\n",
      "111\n",
      "222\n",
      "333\n"
     ]
    }
   ],
   "source": [
    "dic1 = {1 : '111', 2 : '222', 3 : '333'}\n",
    "print(dic1.keys())\n",
    "for i in dic1.keys():\n",
    "    print(i)\n",
    "\n",
    "print(dic1.values())\n",
    "for i in dic1.values():\n",
    "    print(i)"
   ]
  },
  {
   "cell_type": "code",
   "execution_count": 26,
   "metadata": {},
   "outputs": [
    {
     "name": "stdout",
     "output_type": "stream",
     "text": [
      "{1: '111', 2: '222', 3: '333'}\n",
      "111\n",
      "111\n",
      "None\n",
      "000\n"
     ]
    }
   ],
   "source": [
    "print(dic1)\n",
    "print(dic1[1])\n",
    "print(dic1.get(1))\n",
    "print(dic1.get(0))\n",
    "# if key is not in the dictrionary, then this will make sense\n",
    "print(dic1.get(0, '000'))"
   ]
  },
  {
   "cell_type": "code",
   "execution_count": 42,
   "metadata": {},
   "outputs": [
    {
     "name": "stdout",
     "output_type": "stream",
     "text": [
      "{1: '111', 2: '222', 3: '333'}\n",
      "{2: '222', 3: '333'}\n",
      "{2: '222', 3: '333'}\n",
      "{2: '222', 3: '333', 0: '000'}\n",
      "{2: '222', 3: '333'}\n",
      "[2, 3, 0]\n"
     ]
    }
   ],
   "source": [
    "dic1 = {1: '111', 2: '222', 3: '333'}\n",
    "print(dic1)\n",
    "del dic1[1]\n",
    "print(dic1)\n",
    "\n",
    "dic2 = dic1.copy()\n",
    "print(dic2)\n",
    "dic2[0] = '000'\n",
    "print(dic2)\n",
    "print(dic1)\n",
    "\n",
    "# let all the keys of dic2 be a list\n",
    "# this is supported after python 3.6\n",
    "print([*dic2])"
   ]
  },
  {
   "cell_type": "code",
   "execution_count": 44,
   "metadata": {},
   "outputs": [
    {
     "name": "stdout",
     "output_type": "stream",
     "text": [
      "{1: 3, 2: 2, 3: 2, 4: 1, 5: 1, 8: 1, 9: 1}\n",
      "Counter({1: 3, 2: 2, 3: 2, 4: 1, 5: 1, 8: 1, 9: 1})\n"
     ]
    }
   ],
   "source": [
    "# we can use dictionary to count the frequency\n",
    "test = [1, 2, 3, 4, 1, 2, 5, 8, 9, 1, 3]\n",
    "dic = {}\n",
    "for number in test:\n",
    "    if number in dic: # key\n",
    "        dic[number] += 1\n",
    "    else:\n",
    "        dic[number] = 1\n",
    "print(dic)\n",
    "\n",
    "# another way to calculate the frequency\n",
    "import collections\n",
    "print(collections.Counter(test))"
   ]
  },
  {
   "cell_type": "code",
   "execution_count": 49,
   "metadata": {},
   "outputs": [
    {
     "name": "stdout",
     "output_type": "stream",
     "text": [
      "(1, 2, 3)\n",
      "(1, 2, 3)\n",
      "1\n",
      "1\n",
      "1\n"
     ]
    }
   ],
   "source": [
    "# tuple\n",
    "t1 = (1, 2, 3)\n",
    "print(t1)\n",
    "t2 = 1, 2, 3\n",
    "print(t2)\n",
    "# we cannot change the value of tuple\n",
    "print(t1[0])\n",
    "\n",
    "print(t1.count(1))\n",
    "print(t1.index(2))"
   ]
  },
  {
   "cell_type": "code",
   "execution_count": 54,
   "metadata": {},
   "outputs": [
    {
     "name": "stdout",
     "output_type": "stream",
     "text": [
      "{1, 2, 3}\n",
      "{1, 2, 3, 4}\n",
      "[1, 2, 3, 4]\n"
     ]
    }
   ],
   "source": [
    "# set\n",
    "# set is similar to dict\n",
    "s1 = {1, 2, 3}\n",
    "print(s1)\n",
    "list1 = [1, 1, 1, 1, 1, 2, 2, 2, 3, 3, 3, 4]\n",
    "# the same as set in math\n",
    "s1 = set(list1)\n",
    "print(s1)\n",
    "list1 = list(s1)\n",
    "print(list1)\n",
    "\n",
    "s2 = {} # it is a dic, not set!!!\n",
    "s2 = set() # this is correct"
   ]
  },
  {
   "cell_type": "code",
   "execution_count": 59,
   "metadata": {},
   "outputs": [
    {
     "name": "stdout",
     "output_type": "stream",
     "text": [
      "{2, 3, 4, 5}\n",
      "{2, 3, 4, 5}\n",
      "{1, 2, 3, 4, 5}\n",
      "{2, 3, 4, 5}\n",
      "set()\n"
     ]
    }
   ],
   "source": [
    "# we should never care about the order of elements in set\n",
    "print(s1)\n",
    "s1.add(5)\n",
    "print(s1)\n",
    "s1.add(1)\n",
    "print(s1)\n",
    "\n",
    "s1.remove(1)\n",
    "print(s1)\n",
    "s1.clear()\n",
    "print(s1)"
   ]
  },
  {
   "cell_type": "code",
   "execution_count": 62,
   "metadata": {},
   "outputs": [
    {
     "name": "stdout",
     "output_type": "stream",
     "text": [
      "{1, 2}\n",
      "{1, 2, 3, 4, 5, 7}\n",
      "{3, 4, 5}\n"
     ]
    }
   ],
   "source": [
    "s1 = {1, 2, 3, 4, 5}\n",
    "s2 = {3, 4, 4, 5, 7}\n",
    "print(s1.difference(s2)) # s1 - s2\n",
    "print(s1.union(s2)) # s1 + s2\n",
    "print(s1.intersection(s2)) # s1 and s2"
   ]
  },
  {
   "cell_type": "code",
   "execution_count": 65,
   "metadata": {},
   "outputs": [
    {
     "name": "stdout",
     "output_type": "stream",
     "text": [
      "acb\n"
     ]
    }
   ],
   "source": [
    "# dic exercise 1\n",
    "def most_frequent(input):\n",
    "    dic = {}\n",
    "    for e in input:\n",
    "        if e in dic:\n",
    "            dic[e] += 1\n",
    "        else:\n",
    "            dic[e] = 1\n",
    "    keys = [*dic] # we get the list of the key\n",
    "    items = [[k, dic[k]] for k in keys] # [[key1, va1],  [key2, val2],  [key3, val3]]\n",
    "    items.sort(key = lambda x : x[1], reverse = True) # sort the list according to the second element\n",
    "    return ''.join([x[0] for x in items]) # ''.join(list) means transfer a list to a string\n",
    "    \n",
    "x = 'abcaaaaccb'\n",
    "print(most_frequent(x))"
   ]
  },
  {
   "cell_type": "code",
   "execution_count": 70,
   "metadata": {},
   "outputs": [
    {
     "name": "stdout",
     "output_type": "stream",
     "text": [
      "[0, 1, 2, 3, 4, 5, 6, 7, 8, 9]\n",
      "[0, 1, 4, 9, 16, 25, 36, 49, 64, 81]\n",
      "[[0, 0], [1, 1], [2, 4], [3, 9], [4, 16], [5, 25], [6, 36], [7, 49], [8, 64], [9, 81]]\n",
      "[0, 1, 2, 3, 4, 5, 6, 7, 8, 9]\n"
     ]
    }
   ],
   "source": [
    "list1 = [i for i in range(0, 10)]\n",
    "print(list1)\n",
    "\n",
    "list1 = [i * i for i in range(0, 10)]\n",
    "print(list1)\n",
    "\n",
    "list1 = [[i, i * i] for i in range(0, 10)]\n",
    "print(list1)\n",
    "\n",
    "list2 = [x[0] for x in list1]\n",
    "print(list2)"
   ]
  },
  {
   "cell_type": "code",
   "execution_count": 72,
   "metadata": {},
   "outputs": [
    {
     "name": "stdout",
     "output_type": "stream",
     "text": [
      "True\n"
     ]
    }
   ],
   "source": [
    "def is_metathessis_pair(s1, s2):\n",
    "    if len(s1) != len(s2):\n",
    "        return False\n",
    "    if len(s1) < 2:\n",
    "        return False\n",
    "    # count the number of different letters\n",
    "    different = 0\n",
    "    index = []\n",
    "    for i in range(len(s1)):\n",
    "        if s1[i] != s2[i]:\n",
    "            different += 1\n",
    "            index.append(i)\n",
    "    if different != 2:\n",
    "        return False\n",
    "    return s1[index[0]] == s2[index[1]] and s2[index[1]] == s1[index[0]]\n",
    "\n",
    "print(is_metathessis_pair('12321', '21321'))"
   ]
  },
  {
   "cell_type": "code",
   "execution_count": 73,
   "metadata": {},
   "outputs": [],
   "source": [
    "# assume there is a dictrionary of English words\n",
    "# let's ues word_dictionary to denote this\n",
    "# of course we do not provide any word because this is a huge work\n",
    "word_dictionary = []\n",
    "def is_valid(input):\n",
    "    if len(input) == 1:\n",
    "        return True\n",
    "    index = []\n",
    "    for i in range(0, len(input)):\n",
    "        # if we remove a character/letter, can we find this in the dic?\n",
    "        if input[0 : i] + input[i + 1 : ] in word_dictionary:\n",
    "            index.append(i)\n",
    "    if len(index) == 0:\n",
    "        return False\n",
    "    else:\n",
    "        for i in index:\n",
    "            # use recursion\n",
    "            if is_valid(input[0 : i] + input[i + 1 : ]) == True:\n",
    "                return True\n",
    "        return False"
   ]
  }
 ],
 "metadata": {
  "kernelspec": {
   "display_name": "Python 3.10.4 64-bit",
   "language": "python",
   "name": "python3"
  },
  "language_info": {
   "codemirror_mode": {
    "name": "ipython",
    "version": 3
   },
   "file_extension": ".py",
   "mimetype": "text/x-python",
   "name": "python",
   "nbconvert_exporter": "python",
   "pygments_lexer": "ipython3",
   "version": "3.10.4"
  },
  "orig_nbformat": 4,
  "vscode": {
   "interpreter": {
    "hash": "9acb8266650dfd934fba72c534178bc8d188bd9be05e52f4b6c1c63cddd8595d"
   }
  }
 },
 "nbformat": 4,
 "nbformat_minor": 2
}
