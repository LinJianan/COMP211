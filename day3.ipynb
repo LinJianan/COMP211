{
 "cells": [
  {
   "cell_type": "code",
   "execution_count": 1,
   "metadata": {},
   "outputs": [
    {
     "name": "stdout",
     "output_type": "stream",
     "text": [
      "1\n",
      "3\n",
      "5\n",
      "7\n",
      "9\n"
     ]
    }
   ],
   "source": [
    "x = 1\n",
    "while x <= 10:\n",
    "    print(x)\n",
    "    x += 2\n"
   ]
  },
  {
   "cell_type": "code",
   "execution_count": 5,
   "metadata": {},
   "outputs": [
    {
     "name": "stdout",
     "output_type": "stream",
     "text": [
      "1\n",
      "3\n",
      "5\n",
      "7\n",
      "9\n"
     ]
    }
   ],
   "source": [
    "# for iteration is harder than while\n",
    "# range(1, 11, 2)\n",
    "# 1 is the start\n",
    "# 11 is the end, not including in the iteration\n",
    "# 2 is the step size, which means 1, 3, 5, 7, 9\n",
    "for i in range(1, 11, 2):\n",
    "    print(i)\n",
    "# we do not need to know this at this time\n",
    "# numbers = [1, 2, 3, 4, 5, 6]\n",
    "# for i, e in enumerate(numbers):\n",
    "#     print(str(i) + '\\t' + str(e))"
   ]
  },
  {
   "cell_type": "code",
   "execution_count": 10,
   "metadata": {},
   "outputs": [
    {
     "name": "stdout",
     "output_type": "stream",
     "text": [
      "1\n",
      "2\n",
      "3\n",
      "4\n",
      "6\n",
      "7\n",
      "8\n",
      "9\n",
      "1\n",
      "2\n",
      "3\n",
      "4\n"
     ]
    }
   ],
   "source": [
    "# continue and break, pass\n",
    "x = 1\n",
    "while x < 10:\n",
    "    # pass is an empty line\n",
    "    pass\n",
    "    x += 2\n",
    "# print('finish')\n",
    "\n",
    "x = 1\n",
    "while x < 10:\n",
    "    if x == 5:\n",
    "        x += 1\n",
    "        # we will skip to the next iteration\n",
    "        continue\n",
    "    else:\n",
    "        print(x)\n",
    "        x += 1\n",
    "\n",
    "x = 1\n",
    "while x < 10:\n",
    "    if x == 5:\n",
    "        # we finish/stop the iteration\n",
    "        break\n",
    "    else:\n",
    "        print(x)\n",
    "        x += 1"
   ]
  },
  {
   "cell_type": "code",
   "execution_count": 13,
   "metadata": {},
   "outputs": [
    {
     "name": "stdout",
     "output_type": "stream",
     "text": [
      "True\n",
      "False\n",
      "1\n",
      "2\n",
      "3\n",
      "4\n",
      "5\n",
      "1\n",
      "2\n",
      "3\n",
      "4\n",
      "5\n"
     ]
    }
   ],
   "source": [
    "# list\n",
    "# this is a list\n",
    "# the index from 0 to 4 (including 4)\n",
    "A = [1, 2, 3, 4, 5]\n",
    "\n",
    "print(1 in A)\n",
    "print(6 in A)\n",
    "\n",
    "for i in range(0, 5, 1):\n",
    "    print(A[i])\n",
    "# we can simplify this for iteration\n",
    "for i in range(5):\n",
    "    print(A[i])\n",
    "\n",
    "# when range is in the format of (0, ?, 1) then we can\n",
    "# simplify it as range(?)\n",
    "\n",
    "# when range is in the form of (?, ?, 1), then we can\n",
    "# simplify it as range(?, ?)"
   ]
  },
  {
   "cell_type": "code",
   "execution_count": 15,
   "metadata": {},
   "outputs": [
    {
     "name": "stdout",
     "output_type": "stream",
     "text": [
      "[1, 1.5, 'hello']\n",
      "[1, 1.5, 'hi']\n"
     ]
    }
   ],
   "source": [
    "# in python, list can include different types\n",
    "A = [1, 1.5, 'hello']\n",
    "print(A)\n",
    "# print a list is not necessarily allowed in programming language\n",
    "# for example, java does not allow this\n",
    "# but in python, many operations are allowed even encouraged\n",
    "A[2] = 'hi'\n",
    "print(A)"
   ]
  },
  {
   "cell_type": "code",
   "execution_count": 19,
   "metadata": {},
   "outputs": [
    {
     "name": "stdout",
     "output_type": "stream",
     "text": [
      "3\n",
      "[1, 1.5, 'hi']\n",
      "['1', '2', '3']\n",
      "123\n"
     ]
    }
   ],
   "source": [
    "# length\n",
    "print(len(A))\n",
    "\n",
    "print(str(A))\n",
    "\n",
    "B = ['1', '2', '3']\n",
    "print(B)\n",
    "# we can write this when B only includes strings\n",
    "print(''.join(B))"
   ]
  },
  {
   "cell_type": "code",
   "execution_count": 24,
   "metadata": {},
   "outputs": [
    {
     "name": "stdout",
     "output_type": "stream",
     "text": [
      "[1, 2, 3]\n",
      "[1, 2, 3]\n",
      "[1, 2, 3]\n",
      "---------\n",
      "[4, 2, 3]\n",
      "[4, 2, 3]\n",
      "[1, 2, 3]\n"
     ]
    }
   ],
   "source": [
    "a = [1, 2, 3]\n",
    "b = a\n",
    "# copy means we copy a list to a new list\n",
    "# so the change of one list does not affect the other\n",
    "c = a.copy()\n",
    "print(a)\n",
    "print(b)\n",
    "print(c)\n",
    "\n",
    "print('---------')\n",
    "a[0] = 4\n",
    "print(a)\n",
    "print(b)\n",
    "print(c)\n",
    "\n"
   ]
  },
  {
   "cell_type": "code",
   "execution_count": 26,
   "metadata": {},
   "outputs": [
    {
     "name": "stdout",
     "output_type": "stream",
     "text": [
      "[1, 2, 3]\n",
      "[1, 2, 3, 4]\n",
      "[1, 2, 3, 4, 5]\n"
     ]
    }
   ],
   "source": [
    "a = [1, 2, 3]\n",
    "print(a)\n",
    "a.append(4)\n",
    "print(a)\n",
    "print([1, 2, 3] + [4, 5])"
   ]
  },
  {
   "cell_type": "code",
   "execution_count": 27,
   "metadata": {},
   "outputs": [
    {
     "name": "stdout",
     "output_type": "stream",
     "text": [
      "[1, 2, 3]\n",
      "[1, 2, 3, 4, 5]\n"
     ]
    }
   ],
   "source": [
    "a = [1, 2, 3]\n",
    "b = [4, 5]\n",
    "print(a)\n",
    "# a = a + b\n",
    "a.extend(b)\n",
    "print(a)"
   ]
  },
  {
   "cell_type": "code",
   "execution_count": 28,
   "metadata": {},
   "outputs": [
    {
     "name": "stdout",
     "output_type": "stream",
     "text": [
      "[1, 2, 3, 4, 5]\n",
      "[2, 3, 4, 5]\n",
      "[2, 3, 4]\n",
      "[2, 3]\n"
     ]
    }
   ],
   "source": [
    "a = [1, 2, 3, 4, 5]\n",
    "print(a)\n",
    "a.pop(0)\n",
    "print(a)\n",
    "a.pop(-1) # -1 is the last index\n",
    "print(a)\n",
    "a.pop() # if we do not write variable, it is -1\n",
    "print(a)"
   ]
  },
  {
   "cell_type": "code",
   "execution_count": 34,
   "metadata": {},
   "outputs": [
    {
     "name": "stdout",
     "output_type": "stream",
     "text": [
      "0\n",
      "[1, 2, 1, 2, 1, 2]\n"
     ]
    }
   ],
   "source": [
    "a = [1, 2, 3, 4, 1]\n",
    "print(a.index(1)) # the first index\n",
    "# print(a.index(-1))\n",
    "# in most of the programming languages\n",
    "# index start from 0\n",
    "# up to now, I only know matlab start from 1\n",
    "\n",
    "a = [1, 2]\n",
    "print(a * 3)"
   ]
  },
  {
   "cell_type": "code",
   "execution_count": 35,
   "metadata": {},
   "outputs": [
    {
     "name": "stdout",
     "output_type": "stream",
     "text": [
      "2\n",
      "3\n",
      "0\n"
     ]
    }
   ],
   "source": [
    "a = [1, 1, 2, 2, 3, 3, 3]\n",
    "print(a.count(1)) # count the frequency\n",
    "print(a.count(3))\n",
    "print(a.count(0))"
   ]
  },
  {
   "cell_type": "code",
   "execution_count": 36,
   "metadata": {},
   "outputs": [
    {
     "name": "stdout",
     "output_type": "stream",
     "text": [
      "[1, 2, 3, 4, 5]\n",
      "[1, 5, 2, 3, 4, 5]\n"
     ]
    }
   ],
   "source": [
    "a = [1, 2, 3, 4, 5]\n",
    "print(a)\n",
    "# a = a[0 : 1] + [5] + a[1 : 5]\n",
    "a.insert(1, 5)\n",
    "print(a)"
   ]
  },
  {
   "cell_type": "code",
   "execution_count": 41,
   "metadata": {},
   "outputs": [
    {
     "name": "stdout",
     "output_type": "stream",
     "text": [
      "[1, 2, 3, 4, 5]\n",
      "[1, 2, 3, 4, 5]\n",
      "[1, 2, 3, 4, 5]\n",
      "[1, 2, 3, 4, 5]\n",
      "[1, 2, 3, 4, 5]\n",
      "---------\n",
      "[1, 2]\n",
      "[]\n",
      "[1, 2, 3, 4, 5]\n"
     ]
    }
   ],
   "source": [
    "a = [1, 2, 3, 4, 5]\n",
    "print(a)\n",
    "print(a[0 : 5])\n",
    "print(a[0 : ])\n",
    "print(a[ : 5])\n",
    "print(a[0 : 6])\n",
    "# but we cannot write a[5] because this is an error\n",
    "print('---------')\n",
    "\n",
    "print(a[0 : 2])\n",
    "print(a[3 : 2])\n",
    "print(a[:])"
   ]
  },
  {
   "cell_type": "code",
   "execution_count": 44,
   "metadata": {},
   "outputs": [
    {
     "name": "stdout",
     "output_type": "stream",
     "text": [
      "[1, 2, 3, 4, 5, 1]\n",
      "[2, 3, 4, 5, 1]\n"
     ]
    }
   ],
   "source": [
    "# remove is similar to pop\n",
    "# but remove is a value, pop is an index\n",
    "a = [1, 2, 3, 4, 5, 1]\n",
    "print(a)\n",
    "# only removes the first one\n",
    "a.remove(1)\n",
    "print(a)\n",
    "# a.remove(-1)\n",
    "# print(a)"
   ]
  },
  {
   "cell_type": "code",
   "execution_count": 47,
   "metadata": {},
   "outputs": [
    {
     "name": "stdout",
     "output_type": "stream",
     "text": [
      "[1, 2, 3, 4, 5]\n",
      "[5, 4, 3, 2, 1]\n",
      "[1, 2, 3, 4, 5]\n"
     ]
    }
   ],
   "source": [
    "a = [1, 2, 3, 4, 5]\n",
    "print(a)\n",
    "# a = a[::-1]\n",
    "a.reverse()\n",
    "print(a)\n",
    "a = a[::-1]\n",
    "print(a)"
   ]
  },
  {
   "cell_type": "code",
   "execution_count": 51,
   "metadata": {},
   "outputs": [
    {
     "name": "stdout",
     "output_type": "stream",
     "text": [
      "[5, 4, 3, 2, 1]\n",
      "[1, 2, 3, 4, 5]\n",
      "[5, 4, 3, 2, 1]\n",
      "[]\n"
     ]
    }
   ],
   "source": [
    "a = [5, 4, 3, 2, 1]\n",
    "print(a)\n",
    "a.sort()\n",
    "print(a)\n",
    "# reverse here means descending order\n",
    "a.sort(reverse = True)\n",
    "print(a)\n",
    "# a = []\n",
    "a.clear()\n",
    "print(a)"
   ]
  },
  {
   "cell_type": "code",
   "execution_count": 53,
   "metadata": {},
   "outputs": [
    {
     "name": "stdout",
     "output_type": "stream",
     "text": [
      "6\n",
      "1\n",
      "2\n",
      "3\n"
     ]
    }
   ],
   "source": [
    "a = [1, 2, 3]\n",
    "print(sum(a))\n",
    "\n",
    "for i in a:\n",
    "    print(i)"
   ]
  },
  {
   "cell_type": "code",
   "execution_count": 54,
   "metadata": {},
   "outputs": [
    {
     "name": "stdout",
     "output_type": "stream",
     "text": [
      "21\n"
     ]
    }
   ],
   "source": [
    "def nested_sum(input):\n",
    "    result = 0\n",
    "    for s in input:\n",
    "        result = result + sum(s)\n",
    "    return result\n",
    "print(nested_sum([[1, 2, 3], [4], [5, 6]]))"
   ]
  },
  {
   "cell_type": "code",
   "execution_count": 59,
   "metadata": {},
   "outputs": [
    {
     "name": "stdout",
     "output_type": "stream",
     "text": [
      "[1, 3, 6]\n"
     ]
    }
   ],
   "source": [
    "def cumsum(input):\n",
    "    result = input.copy()\n",
    "    # input = [1, 2, 3]\n",
    "    # result = [1, 2, 3]\n",
    "    # 1 should not change\n",
    "    # result[1] = 1 + 2 = result[0] + result[1] = input[0] + input[1]\n",
    "    # result[2] = 1 + 2 + 3 = input[0] + input[1] + inpuit[2] = result[1] + result[2]\n",
    "    for i in range(1, len(input)):\n",
    "        result[i] = result[i] + result[i - 1]\n",
    "    return result\n",
    "print(cumsum([1, 2, 3]))"
   ]
  },
  {
   "cell_type": "code",
   "execution_count": 60,
   "metadata": {},
   "outputs": [
    {
     "name": "stdout",
     "output_type": "stream",
     "text": [
      "[2, 3]\n"
     ]
    }
   ],
   "source": [
    "def middle(input):\n",
    "    input.pop(0)\n",
    "    input.pop(-1)\n",
    "    return input\n",
    "print(middle([1, 2, 3, 4]))"
   ]
  }
 ],
 "metadata": {
  "kernelspec": {
   "display_name": "Python 3.10.4 64-bit",
   "language": "python",
   "name": "python3"
  },
  "language_info": {
   "codemirror_mode": {
    "name": "ipython",
    "version": 3
   },
   "file_extension": ".py",
   "mimetype": "text/x-python",
   "name": "python",
   "nbconvert_exporter": "python",
   "pygments_lexer": "ipython3",
   "version": "3.10.4"
  },
  "orig_nbformat": 4,
  "vscode": {
   "interpreter": {
    "hash": "9acb8266650dfd934fba72c534178bc8d188bd9be05e52f4b6c1c63cddd8595d"
   }
  }
 },
 "nbformat": 4,
 "nbformat_minor": 2
}
