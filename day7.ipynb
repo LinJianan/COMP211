{
 "cells": [
  {
   "cell_type": "code",
   "execution_count": 4,
   "metadata": {},
   "outputs": [
    {
     "name": "stdout",
     "output_type": "stream",
     "text": [
      "[1, 2, 3, 4, 5]\n"
     ]
    }
   ],
   "source": [
    "# other sorting algorithms\n",
    "# insert sort\n",
    "\"\"\"\n",
    "[5, 4, 3, 2, 1]\n",
    "insert sort can be regarded as, numbers come one by one, and we need to give the proper place for them\n",
    "[5, 4, 3, 2, 1]\n",
    "[4, 5, 3, 2, 1]\n",
    "[3, 4, 5, 2, 1]\n",
    "[2, 3, 4, 5, 1]\n",
    "[1, 2, 3, 4, 5]\n",
    "we can also regard this as the following procedure\n",
    "[5]\n",
    "[4, 5]\n",
    "[3, 4, 5]\n",
    "[2, 3, 4, 5]\n",
    "[1, 2, 3, 4, 5]\n",
    "\"\"\"\n",
    "def my_insert_sort(input : list) -> list:\n",
    "    result = [input[0]]\n",
    "    for i in range(1, len(input)):\n",
    "        # firstly we append input[i]\n",
    "        result.append(input[i])\n",
    "        # then we change the position\n",
    "        j = i # so j is the last index now\n",
    "        while j > 0 and result[j] < result[j - 1]:\n",
    "            result[j], result[j - 1] = result[j - 1], result[j]\n",
    "            j -= 1\n",
    "    return result\n",
    "\n",
    "test_input = [5, 4, 3, 2, 1]\n",
    "result = my_insert_sort(test_input)\n",
    "print(result)\n"
   ]
  },
  {
   "cell_type": "code",
   "execution_count": 7,
   "metadata": {},
   "outputs": [
    {
     "name": "stdout",
     "output_type": "stream",
     "text": [
      "[1, 2, 3, 4, 5, 6, 7, 8]\n"
     ]
    }
   ],
   "source": [
    "# merge sort\n",
    "# before merge sort, all the sorting algorithms have time complexity O(n^2), where n is the length of the input list\n",
    "# merge sort is the first one that achieves O(nlogn)\n",
    "\"\"\"\n",
    "[8, 1, 4, 2, 5, 3, 7, 6]\n",
    "Step I, divide it into different parts until the length is 1 or 2\n",
    "sort([8, 1, 4, 2]) and sort([5, 3, 7, 6]) then merge them\n",
    "sort([8, 1]) and sort([4, 2]) and merge them; sort([5, 3]) and sort([7, 6]) and merge them; at last merge the large list\n",
    "merge([1, 8] and [2, 4]) -> [1, 2, 4, 8]\n",
    "merge([3, 5] and [6, 7]) -> [3, 5, 6, 7]\n",
    "merge them, we have [1, 2, 3, 4, 5, 6, 7, 8]\n",
    "\"\"\"\n",
    "def my_merge_sort(input):\n",
    "    # base case\n",
    "    if len(input) == 1:\n",
    "        return input\n",
    "    elif len(input) == 2:\n",
    "        return [min(input), max(input)]\n",
    "    # recursion\n",
    "    else:\n",
    "        L = len(input)\n",
    "        # recursion part\n",
    "        # input1 and input2 are sorted\n",
    "        input1, input2 = my_merge_sort(input[0 : L // 2]), my_merge_sort(input[L // 2 : L])\n",
    "        # we need to merge them\n",
    "        result = []\n",
    "        i, j = 0, 0, # denote the index of input1 and input2\n",
    "        # we compare each element one by one and move forward\n",
    "        while i < len(input1) and j < len(input2):\n",
    "            if input1[i] <= input2[j]:\n",
    "                result.append(input1[i])\n",
    "                i += 1\n",
    "            else:\n",
    "                result.append(input2[j])\n",
    "                j += 1\n",
    "        # there must be a list which has remaining elements\n",
    "        if i < len(input1):\n",
    "            result = result + input1[i : ]\n",
    "        else:\n",
    "            result = result + input2[j : ]\n",
    "        return result\n",
    "\n",
    "test_input = [8, 1, 4, 2, 5, 3, 7, 6]\n",
    "result = my_merge_sort(test_input)\n",
    "print(result)"
   ]
  },
  {
   "cell_type": "code",
   "execution_count": 10,
   "metadata": {},
   "outputs": [
    {
     "name": "stdout",
     "output_type": "stream",
     "text": [
      "[1, 2, 3, 4, 5, 6, 7, 8]\n"
     ]
    }
   ],
   "source": [
    "# quick sort\n",
    "# the most efficient sorting alrogrithm in industry\n",
    "# but python uses Tim sort if we run list.sort()\n",
    "\"\"\"\n",
    "[8, 1, 4, 2, 5, 3, 7, 6]\n",
    "quick sort is to select a number, divide the list into three parts, less than, equal to, and larger than\n",
    "in the same way, we use recursion until we have the final result\n",
    "how can we select a number? there are many different ways. One is the use the average of first and last number.\n",
    "Select 7, and divide them into [1, 4, 2, 5, 3, 6] + [7] + [8]\n",
    "if we can sort each part, then we can connect them together directly\n",
    "then we see [1, 4, 2, 5, 3, 6] and select (1 + 6) / 2 = 3.5\n",
    "so we divide this into [1, 2, 3] and [4, 5, 6]\n",
    "then we see [1, 2, 3] and select 2, we have [1] + [2] + [3] and reach the base case\n",
    "the same as [4, 5, 6]\n",
    "\"\"\"\n",
    "def my_quick_sort(input):\n",
    "    if len(input) <= 1:\n",
    "        return input\n",
    "    elif len(input) == 2:\n",
    "        return [min(input), max(input)]\n",
    "    # recursion case\n",
    "    else:\n",
    "        # first we select a number\n",
    "        benchmark = (input[0] + input[-1]) / 2\n",
    "        less_than, equal_to, larger_than = [], [], []\n",
    "        for e in input:\n",
    "            if e < benchmark:\n",
    "                less_than.append(e)\n",
    "            elif e > benchmark:\n",
    "                larger_than.append(e)\n",
    "            else:\n",
    "                equal_to.append(e)\n",
    "        result1, result2, result3 = my_quick_sort(less_than), my_quick_sort(equal_to), my_quick_sort(larger_than)\n",
    "        return result1 + result2 + result3\n",
    "\n",
    "test_input = [8, 1, 4, 2, 5, 3, 7, 6]\n",
    "result = my_quick_sort(test_input)\n",
    "print(result)\n"
   ]
  },
  {
   "cell_type": "code",
   "execution_count": null,
   "metadata": {},
   "outputs": [],
   "source": [
    "# we have a user system, it should include register, login and logout functions. How can we achieve this?\n",
    "\n",
    "user_information = {}\n",
    "log_in = \"\"\n",
    "\n",
    "def register(username, password):\n",
    "    # we need to compare whether username exists\n",
    "    if username in user_information:\n",
    "        return False\n",
    "    else:\n",
    "        user_information[username] = password\n",
    "\n",
    "def login(username, password):\n",
    "    if username in user_information and user_information[username] == password:\n",
    "        global log_in\n",
    "        log_in = username\n",
    "        return True\n",
    "    else:\n",
    "        return False\n",
    "\n",
    "def logout(username):\n",
    "    global log_in\n",
    "    if username == log_in:\n",
    "        log_in = \"\"\n",
    "        return True\n",
    "    else:\n",
    "        return False"
   ]
  },
  {
   "cell_type": "code",
   "execution_count": 1,
   "metadata": {},
   "outputs": [
    {
     "name": "stdout",
     "output_type": "stream",
     "text": [
      "[1]\n",
      "[1, 1]\n",
      "[1, 2, 1]\n",
      "[1, 3, 3, 1]\n",
      "[1, 4, 6, 4, 1]\n",
      "[1, 5, 10, 10, 5, 1]\n",
      "[1, 6, 15, 20, 15, 6, 1]\n",
      "[1, 7, 21, 35, 35, 21, 7, 1]\n"
     ]
    }
   ],
   "source": [
    "# given positive number n, print the first n + 1 lines of pascal triangle\n",
    "\"\"\"\n",
    "1\n",
    "1 1\n",
    "1 2 1\n",
    "1 3 3 1\n",
    "1 4 6 4 1\n",
    "1 5 10 10 5 1\n",
    "1 6 15 20 15 6 1\n",
    "\"\"\"\n",
    "def print_pascal_triangle(n):\n",
    "    numbers = [1]\n",
    "    print(numbers)\n",
    "    while n > 0:\n",
    "        # for each line, is starts and ends with 1\n",
    "        # other number is the sum of two in previous line\n",
    "        numbers = [1] + [numbers[i] + numbers[i + 1] for i in range(len(numbers) - 1)] + [1]\n",
    "        print(numbers)\n",
    "        n -= 1\n",
    "    return\n",
    "\n",
    "print_pascal_triangle(7)"
   ]
  },
  {
   "cell_type": "code",
   "execution_count": 4,
   "metadata": {},
   "outputs": [
    {
     "name": "stdout",
     "output_type": "stream",
     "text": [
      "72\n",
      "72\n"
     ]
    }
   ],
   "source": [
    "# given an array, return the sum of them after n iterations, here one iteration is as follows\n",
    "# this problem appears in some company's interview\n",
    "\"\"\"\n",
    "[1, 2, 3, 4, 5, 6, 7, 8]\n",
    "do one iteration\n",
    "[1, 1 + 2, 2 + 3, 3 + 4, 4 + 5, 5 + 6, 6 + 7, 7 + 8, 8]\n",
    "[1, 3, 5, 7, 9, 11, 13, 15, 8]\n",
    "\"\"\"\n",
    "def get_sum_after_iteration(input : list, n : int) -> int:\n",
    "    numbers = input.copy()\n",
    "    while n > 0:\n",
    "        n -= 1\n",
    "        numbers = [numbers[0]] + [numbers[i] + numbers[i + 1] for i in range(len(numbers) - 1)] + [numbers[-1]]\n",
    "    return sum(numbers)\n",
    "\n",
    "print(get_sum_after_iteration([1, 2, 3, 4, 5, 6, 7, 8], 1))\n",
    "print(sum([1, 3, 5, 7, 9, 11, 13, 15, 8]))"
   ]
  }
 ],
 "metadata": {
  "kernelspec": {
   "display_name": "Python 3.10.4 64-bit",
   "language": "python",
   "name": "python3"
  },
  "language_info": {
   "codemirror_mode": {
    "name": "ipython",
    "version": 3
   },
   "file_extension": ".py",
   "mimetype": "text/x-python",
   "name": "python",
   "nbconvert_exporter": "python",
   "pygments_lexer": "ipython3",
   "version": "3.10.4"
  },
  "orig_nbformat": 4,
  "vscode": {
   "interpreter": {
    "hash": "9acb8266650dfd934fba72c534178bc8d188bd9be05e52f4b6c1c63cddd8595d"
   }
  }
 },
 "nbformat": 4,
 "nbformat_minor": 2
}
