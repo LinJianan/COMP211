{
 "cells": [
  {
   "cell_type": "code",
   "execution_count": 2,
   "metadata": {},
   "outputs": [
    {
     "name": "stdout",
     "output_type": "stream",
     "text": [
      "True\n",
      "False\n",
      "True\n"
     ]
    }
   ],
   "source": [
    "# sub-string\n",
    "# if string s2 appears in some segment in s1, then it is a sub-string\n",
    "# for example, 'abc' is a substring of 'aabc' but not a substring of 'aabbcc'\n",
    "# sub-sequence\n",
    "# sub-sequence is more general than sub-string\n",
    "# if s2 is a sub-sequence of s1, this means all s2'char can be found in s1 with the correct order\n",
    "# abc is a sub-sequence of aabbcc\n",
    "# if we want to determine whether s2 is a sub=string of s1, this is easy\n",
    "def is_sub_string(s1, s2):\n",
    "    return s2 in s1\n",
    "\n",
    "print(is_sub_string('aabc', 'abc'))\n",
    "print(is_sub_string('aabbcc', 'abc'))\n",
    "\n",
    "def is_sub_sequence(s1, s2):\n",
    "    # case check\n",
    "    if len(s1) < len(s2):\n",
    "        return False\n",
    "    # i is the index of s1, and j is the index of s2\n",
    "    i, j = 0, 0\n",
    "    # we use iteration to determine the match\n",
    "    # for example, at first s1 = aabbcc, s2 = abc, and i and j are 0\n",
    "    # a == a, then i, j = 1, 1\n",
    "    # this time a != b, i = 2, j = 1\n",
    "    # b == b, then i, j = 3,  2\n",
    "    # b != c, then i = 4, j = 2\n",
    "    # c == c, then i, j = 5, 3\n",
    "    # this means we need to break the loop (iteration) because j == len(s2)\n",
    "    # if j == len(s2), then s2 are matched properly, so we return True\n",
    "    # otherwise, there is at least one element in s2 which is not matched, so return False\n",
    "    while i < len(s1) and j < len(s2):\n",
    "        if s1[i] == s2[j]:\n",
    "            i, j = i + 1, j + 1\n",
    "        else:\n",
    "            i += 1\n",
    "    return j == len(s2)\n",
    "\n",
    "print(is_sub_sequence('aabbcc', 'abc'))"
   ]
  },
  {
   "cell_type": "code",
   "execution_count": 3,
   "metadata": {},
   "outputs": [
    {
     "name": "stdout",
     "output_type": "stream",
     "text": [
      "0.7071067811865475\n",
      "0.7071067811865476\n"
     ]
    }
   ],
   "source": [
    "# how to realize some math functions\n",
    "# sin(x) = x - x^3 / 3! + x^5 / 5! - x^7 / 7!\n",
    "# try to write sin(x) yourself and you can use math.sin(X) to determine the error rate\n",
    "import math\n",
    "def sin(x):\n",
    "    # T = 2pi\n",
    "    if x < 0:\n",
    "        return -sin(-x)\n",
    "    # if x is 3.5pi, then it will be 1.5pi, then -0.5pi, then 0.5pi\n",
    "    if x > math.pi:\n",
    "        return sin(x - 2 * math.pi)\n",
    "    # symmetric\n",
    "    if 0.5 * math.pi < x < math.pi:\n",
    "        return sin(math.pi - x)\n",
    "    # then we do the iteration\n",
    "    # result is what we return\n",
    "    result = x\n",
    "    # flag means - or +\n",
    "    flag = 1\n",
    "    # factorial is n!\n",
    "    factorial = 1\n",
    "    # temp is x^n\n",
    "    temp = x\n",
    "    for i in range(1, 10):\n",
    "        flag = -flag\n",
    "        factorial = factorial * (2 * i) * (2 * i + 1)\n",
    "        temp = temp * x * x\n",
    "        result = result + flag * temp / factorial\n",
    "    return result\n",
    "\n",
    "print(sin(math.pi / 4)) # this should be 0.71\n",
    "print(math.sin(math.pi / 4))"
   ]
  },
  {
   "cell_type": "code",
   "execution_count": 4,
   "metadata": {},
   "outputs": [
    {
     "name": "stdout",
     "output_type": "stream",
     "text": [
      "1.0000004999621837\n",
      "3.0000029997978572\n"
     ]
    }
   ],
   "source": [
    "# derivative f'(x) = dy / dx\n",
    "def derivative(f, x):\n",
    "    return (f(x + 0.000001) - f(x)) / 0.000001\n",
    "\n",
    "def f1(x):\n",
    "    return math.e ** x\n",
    "\n",
    "def f2(x):\n",
    "    return x ** 3\n",
    "\n",
    "print(derivative(f1, 0)) # should be 1\n",
    "print(derivative(f2, 1)) # should be 3"
   ]
  },
  {
   "cell_type": "code",
   "execution_count": 5,
   "metadata": {},
   "outputs": [
    {
     "name": "stdout",
     "output_type": "stream",
     "text": [
      "1.718467743982291\n",
      "1.718281828459045\n",
      "0.25005000249993403\n"
     ]
    }
   ],
   "source": [
    "# integral\n",
    "def integral(f, x1, x2):\n",
    "    result = 0\n",
    "    x = x1\n",
    "    while x < x2:\n",
    "        result = result + 0.0001 * f(x)\n",
    "        x += 0.0001\n",
    "    return result\n",
    "\n",
    "print(integral(f1, 0, 1)) # should be math.e - 1\n",
    "print(math.e - 1)\n",
    "print(integral(f2, 0, 1)) # should be 0.25"
   ]
  },
  {
   "cell_type": "code",
   "execution_count": 6,
   "metadata": {},
   "outputs": [
    {
     "name": "stdout",
     "output_type": "stream",
     "text": [
      "4\n",
      "1.3665993062496122\n",
      "3\n"
     ]
    }
   ],
   "source": [
    "# random number\n",
    "import random\n",
    "\n",
    "# Return random integer in range [a, b], including both end points.\n",
    "x1 = random.randint(1, 10)\n",
    "print(x1)\n",
    "\n",
    "# Return random float number in range [1, 2] with equal probability\n",
    "x2 = random.uniform(1, 2)\n",
    "print(x2)\n",
    "\n",
    "s = [1, 2, 3, 4, 5]\n",
    "# we select arbitrary item from the list\n",
    "x3 = random.choice(s)\n",
    "print(x3)"
   ]
  },
  {
   "cell_type": "code",
   "execution_count": 7,
   "metadata": {},
   "outputs": [
    {
     "name": "stdout",
     "output_type": "stream",
     "text": [
      "3.141604\n",
      "3.141592653589793\n"
     ]
    }
   ],
   "source": [
    "# use random function to get the approximate value of math.pi\n",
    "def get_pi():\n",
    "    # we create a point (x, y) in range [0, 1] X [0, 1] and determine whether it is in the circle x^2 + y^2 = 1\n",
    "    count = 0\n",
    "    for i in range(10000000):\n",
    "        x = random.uniform(0, 1)\n",
    "        y = random.uniform(0, 1)\n",
    "        if x ** 2 + y ** 2 < 1:\n",
    "            count += 1\n",
    "    return 4 * count / 10000000\n",
    "\n",
    "print(get_pi())\n",
    "print(math.pi)"
   ]
  },
  {
   "cell_type": "code",
   "execution_count": 8,
   "metadata": {},
   "outputs": [
    {
     "name": "stdout",
     "output_type": "stream",
     "text": [
      "0.9713\n"
     ]
    }
   ],
   "source": [
    "# we have some people with birthday, and we determine whether two people share the same day\n",
    "# m means the number of people, n means the day\n",
    "def check_birthday(m, n = 365):\n",
    "    birthday = set()\n",
    "    for i in range(m):\n",
    "        x = random.randint(1, 365)\n",
    "        if x in birthday:\n",
    "            return True\n",
    "        else:\n",
    "            birthday.add(x)\n",
    "    return False\n",
    "\n",
    "def test_birthday(m, n = 365):\n",
    "    count = 0\n",
    "    for i in range(10000):\n",
    "        if check_birthday(m, n) == True:\n",
    "            count += 1\n",
    "    return count / 10000\n",
    "\n",
    "print(test_birthday(50)) # 97% very large\n"
   ]
  },
  {
   "cell_type": "code",
   "execution_count": 9,
   "metadata": {},
   "outputs": [
    {
     "name": "stdout",
     "output_type": "stream",
     "text": [
      "123\n",
      "132\n",
      "213\n",
      "231\n",
      "312\n",
      "321\n"
     ]
    }
   ],
   "source": [
    "# permutation\n",
    "# we have n! permutation of a string length n\n",
    "# s = 123, then the 6 permutations are: 123, 132, 213, 231, 321, 312\n",
    "# how can we print all the permutations?\n",
    "# of course we need to use recursion\n",
    "def print_permutation(s):\n",
    "    # s is the remaining part, and previous should be print before this\n",
    "    def print_permutation_helper(s, previous):\n",
    "        # base case, because in this case we have only 1 permutation\n",
    "        if len(s) == 1:\n",
    "            print(previous + s)\n",
    "        # for example, in 123\n",
    "        # first we select 1 and remain 23, so previous is 1, s = 23\n",
    "        # then we select 2 and remain 13, so previous is 2, s = 13\n",
    "        # last we select 3 and remain 12, so previous is 3, s = 12\n",
    "        for i in range(0, len(s)):\n",
    "            print_permutation_helper(s[0 : i] + s[i + 1 : ], previous + s[i])\n",
    "    print_permutation_helper(s, \"\")\n",
    "\n",
    "print_permutation('123')"
   ]
  }
 ],
 "metadata": {
  "kernelspec": {
   "display_name": "Python 3.10.4 64-bit",
   "language": "python",
   "name": "python3"
  },
  "language_info": {
   "codemirror_mode": {
    "name": "ipython",
    "version": 3
   },
   "file_extension": ".py",
   "mimetype": "text/x-python",
   "name": "python",
   "nbconvert_exporter": "python",
   "pygments_lexer": "ipython3",
   "version": "3.10.4"
  },
  "orig_nbformat": 4,
  "vscode": {
   "interpreter": {
    "hash": "9acb8266650dfd934fba72c534178bc8d188bd9be05e52f4b6c1c63cddd8595d"
   }
  }
 },
 "nbformat": 4,
 "nbformat_minor": 2
}
