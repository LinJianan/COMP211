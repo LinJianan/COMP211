{
 "cells": [
  {
   "cell_type": "code",
   "execution_count": 5,
   "metadata": {},
   "outputs": [
    {
     "name": "stdout",
     "output_type": "stream",
     "text": [
      "<class 'int'>\n",
      "123456\n",
      "123\n",
      "123\n",
      "-123\n",
      "-123\n"
     ]
    }
   ],
   "source": [
    "# see some simply functions\n",
    "print(type(42))\n",
    "print(int('123456'))\n",
    "print(int(123.456))\n",
    "print(int(123.999))\n",
    "print(int(-123.456))\n",
    "print(int(-123.999))"
   ]
  },
  {
   "cell_type": "code",
   "execution_count": 9,
   "metadata": {},
   "outputs": [
    {
     "name": "stdout",
     "output_type": "stream",
     "text": [
      "32.0\n",
      "321.654\n",
      "123\n",
      "<class 'str'>\n"
     ]
    }
   ],
   "source": [
    "print(float(32))\n",
    "print(float('321.654'))\n",
    "print(str(123))\n",
    "print(type(str(123)))"
   ]
  },
  {
   "cell_type": "code",
   "execution_count": 14,
   "metadata": {},
   "outputs": [
    {
     "name": "stdout",
     "output_type": "stream",
     "text": [
      "1.0\n",
      "6.123233995736766e-17\n",
      "0.9999999999999999\n",
      "2.0\n",
      "2.0\n"
     ]
    }
   ],
   "source": [
    "import math\n",
    "pi = math.pi # 3.1415926\n",
    "print(math.sin(pi / 2))\n",
    "print(math.cos(pi / 2))\n",
    "print(math.tan(pi / 4))\n",
    "print(math.sqrt(4))\n",
    "print(4 ** 0.5)"
   ]
  },
  {
   "cell_type": "code",
   "execution_count": 16,
   "metadata": {},
   "outputs": [
    {
     "name": "stdout",
     "output_type": "stream",
     "text": [
      "hello world\n"
     ]
    }
   ],
   "source": [
    "# write a function to say hello world\n",
    "# usually 1 tab = 4 spaces, but other is also acceptable\n",
    "# but you should obey this rule in your program\n",
    "def say_hello():\n",
    "    print('hello world')\n",
    "say_hello()"
   ]
  },
  {
   "cell_type": "code",
   "execution_count": 17,
   "metadata": {},
   "outputs": [
    {
     "name": "stdout",
     "output_type": "stream",
     "text": [
      "The Zen of Python, by Tim Peters\n",
      "\n",
      "Beautiful is better than ugly.\n",
      "Explicit is better than implicit.\n",
      "Simple is better than complex.\n",
      "Complex is better than complicated.\n",
      "Flat is better than nested.\n",
      "Sparse is better than dense.\n",
      "Readability counts.\n",
      "Special cases aren't special enough to break the rules.\n",
      "Although practicality beats purity.\n",
      "Errors should never pass silently.\n",
      "Unless explicitly silenced.\n",
      "In the face of ambiguity, refuse the temptation to guess.\n",
      "There should be one-- and preferably only one --obvious way to do it.\n",
      "Although that way may not be obvious at first unless you're Dutch.\n",
      "Now is better than never.\n",
      "Although never is often better than *right* now.\n",
      "If the implementation is hard to explain, it's a bad idea.\n",
      "If the implementation is easy to explain, it may be a good idea.\n",
      "Namespaces are one honking great idea -- let's do more of those!\n"
     ]
    }
   ],
   "source": [
    "def import_this():\n",
    "    import this\n",
    "import_this()"
   ]
  },
  {
   "cell_type": "code",
   "execution_count": 20,
   "metadata": {},
   "outputs": [
    {
     "name": "stdout",
     "output_type": "stream",
     "text": [
      "3\n"
     ]
    }
   ],
   "source": [
    "# write a function to print the sum of two numbers\n",
    "def add_two(a, b):\n",
    "    print(a + b)\n",
    "add_two(1, 2)"
   ]
  },
  {
   "cell_type": "code",
   "execution_count": 21,
   "metadata": {},
   "outputs": [
    {
     "name": "stdout",
     "output_type": "stream",
     "text": [
      "6\n"
     ]
    }
   ],
   "source": [
    "def add_three(a, b, c):\n",
    "    print(a + b + c)\n",
    "add_three(1, 2, 3)"
   ]
  },
  {
   "cell_type": "code",
   "execution_count": 24,
   "metadata": {},
   "outputs": [
    {
     "name": "stdout",
     "output_type": "stream",
     "text": [
      "3\n",
      "None\n"
     ]
    }
   ],
   "source": [
    "# write a function which returns the sum of two numbers\n",
    "def sum_two(a, b):\n",
    "    return a + b\n",
    "result = sum_two(1, 2)\n",
    "print(result)\n",
    "\n",
    "def sum_two_no_return(a, b):\n",
    "    return None\n",
    "result = sum_two_no_return(1, 2)\n",
    "print(result)"
   ]
  },
  {
   "cell_type": "code",
   "execution_count": 25,
   "metadata": {},
   "outputs": [
    {
     "name": "stdout",
     "output_type": "stream",
     "text": [
      "55\n"
     ]
    }
   ],
   "source": [
    "def sum_from_1_to_n(n):\n",
    "    if n == 1:\n",
    "        return 1\n",
    "    else:\n",
    "        return sum_from_1_to_n(n - 1) + n\n",
    "print(sum_from_1_to_n(10))"
   ]
  },
  {
   "cell_type": "code",
   "execution_count": 27,
   "metadata": {},
   "outputs": [
    {
     "name": "stdout",
     "output_type": "stream",
     "text": [
      "34\n",
      "55\n",
      "89\n"
     ]
    }
   ],
   "source": [
    "# Recursion\n",
    "def fib(n):\n",
    "    # fib is a sequence 0, 1, 1, 2, 3, 5, 8......\n",
    "    # Each number is the sum of the two previous ones\n",
    "    if n == 0:\n",
    "        return 0\n",
    "    elif n == 1:\n",
    "        return 1\n",
    "    else:\n",
    "        return fib(n - 1) + fib(n - 2)\n",
    "print(fib(9))\n",
    "print(fib(10))\n",
    "print(fib(11))"
   ]
  },
  {
   "cell_type": "code",
   "execution_count": null,
   "metadata": {},
   "outputs": [],
   "source": [
    "# There is large problem when we use recursion\n",
    "# if we calculate fib sequence one by one in positive direction\n",
    "# then we need to calculate n + 1 times if input is n\n",
    "# but if we use recursion, things will be different\n",
    "def fib_test(n):\n",
    "    print('we run this function')\n",
    "    if n == 0:\n",
    "        return 0\n",
    "    elif n == 1:\n",
    "        return 1\n",
    "    else:\n",
    "        return fib_test(n - 1) + fib_test(n - 2)\n",
    "fib_test(10)"
   ]
  },
  {
   "cell_type": "code",
   "execution_count": 31,
   "metadata": {},
   "outputs": [
    {
     "name": "stdout",
     "output_type": "stream",
     "text": [
      "we run this function\n",
      "we run this function\n",
      "we run this function\n",
      "we run this function\n",
      "we run this function\n",
      "we run this function\n",
      "we run this function\n",
      "we run this function\n",
      "we run this function\n",
      "we run this function\n",
      "we run this function\n"
     ]
    },
    {
     "data": {
      "text/plain": [
       "55"
      ]
     },
     "execution_count": 31,
     "metadata": {},
     "output_type": "execute_result"
    }
   ],
   "source": [
    "import functools\n",
    "@functools.cache\n",
    "# the function of cache is\n",
    "# when we calculate fib_cache(x), then it will store this value\n",
    "# next time we need fib_cache(x), we can use this value directly,\n",
    "# and do not need to calculate it agian.\n",
    "def fib_cache(n):\n",
    "    print('we run this function')\n",
    "    if n == 0:\n",
    "        return 0\n",
    "    elif n == 1:\n",
    "        return 1\n",
    "    else:\n",
    "        return fib_cache(n - 1) + fib_cache(n - 2)\n",
    "\n",
    "fib_cache(10)"
   ]
  },
  {
   "cell_type": "code",
   "execution_count": 32,
   "metadata": {},
   "outputs": [
    {
     "name": "stdout",
     "output_type": "stream",
     "text": [
      "1\n"
     ]
    }
   ],
   "source": [
    "# Of course, two functions can cross each other\n",
    "def function_one(x):\n",
    "    if x == 1:\n",
    "        return 1\n",
    "    else:\n",
    "        return function_two(x - 1)\n",
    "def function_two(x):\n",
    "    if x == 1:\n",
    "        return 1\n",
    "    else:\n",
    "        return function_one(x - 1)\n",
    "print(function_one(10))"
   ]
  },
  {
   "cell_type": "code",
   "execution_count": null,
   "metadata": {},
   "outputs": [],
   "source": [
    "# Obviously, we cannot write\n",
    "# def f_dead(x):\n",
    "#     return f_dead(x) + 1"
   ]
  },
  {
   "cell_type": "code",
   "execution_count": 33,
   "metadata": {},
   "outputs": [
    {
     "name": "stdout",
     "output_type": "stream",
     "text": [
      "7\n",
      "The input must be integers!\n",
      "None\n"
     ]
    }
   ],
   "source": [
    "# we add two integer numbers together, but we refuse other input\n",
    "# type check\n",
    "def add_two_int(a, b):\n",
    "    if type(a) == int and type(b) == int:\n",
    "        return a + b\n",
    "    else:\n",
    "        print('The input must be integers!')\n",
    "        return None\n",
    "print(add_two_int(2, 5))\n",
    "print(add_two_int('2', '5'))"
   ]
  },
  {
   "cell_type": "code",
   "execution_count": 34,
   "metadata": {},
   "outputs": [
    {
     "name": "stdout",
     "output_type": "stream",
     "text": [
      "5\n",
      "2\n",
      "2\n"
     ]
    }
   ],
   "source": [
    "def add_two_default(a, b = 0):\n",
    "    return a + b\n",
    "print(add_two_default(2, 3))\n",
    "print(add_two_default(2, 0))\n",
    "print(add_two_default(2))\n",
    "\n",
    "# this is correct\n",
    "def notice_default(a, b, c = 1, d = 2, e = 3):\n",
    "    return\n",
    "# we cannot write this\n",
    "# use ctrl + / to comment some code\n",
    "# def notice_default_wrong(a = 1, b):\n",
    "#     return None"
   ]
  },
  {
   "cell_type": "code",
   "execution_count": 35,
   "metadata": {},
   "outputs": [
    {
     "name": "stdout",
     "output_type": "stream",
     "text": [
      "10\n",
      "10\n"
     ]
    }
   ],
   "source": [
    "x = 10\n",
    "def change_x_local():\n",
    "    x = 5\n",
    "print(x)\n",
    "change_x_local()\n",
    "print(x)"
   ]
  },
  {
   "cell_type": "code",
   "execution_count": 38,
   "metadata": {},
   "outputs": [
    {
     "name": "stdout",
     "output_type": "stream",
     "text": [
      "10\n",
      "5\n"
     ]
    }
   ],
   "source": [
    "y = 10\n",
    "def change_y_global():\n",
    "    global y\n",
    "    y = 5\n",
    "print(y)\n",
    "change_y_global()\n",
    "print(y)"
   ]
  },
  {
   "cell_type": "code",
   "execution_count": 39,
   "metadata": {},
   "outputs": [
    {
     "name": "stdout",
     "output_type": "stream",
     "text": [
      "10\n",
      "10\n"
     ]
    }
   ],
   "source": [
    "def function_parent():\n",
    "    x = 10\n",
    "    def function_child():\n",
    "        x = 5\n",
    "    print(x)\n",
    "    function_child()\n",
    "    print(x)\n",
    "function_parent()"
   ]
  },
  {
   "cell_type": "code",
   "execution_count": 42,
   "metadata": {},
   "outputs": [
    {
     "name": "stdout",
     "output_type": "stream",
     "text": [
      "10\n",
      "5\n"
     ]
    }
   ],
   "source": [
    "def function_parent_nonlocal():\n",
    "    x = 10\n",
    "    def function_child_nonlocal():\n",
    "        nonlocal x\n",
    "        x = 5\n",
    "    print(x)\n",
    "    function_child_nonlocal()\n",
    "    print(x)\n",
    "function_parent_nonlocal()"
   ]
  },
  {
   "cell_type": "code",
   "execution_count": 43,
   "metadata": {},
   "outputs": [
    {
     "name": "stdout",
     "output_type": "stream",
     "text": [
      "you will get 2 credits\n"
     ]
    }
   ],
   "source": [
    "# homework format\n",
    "# in homework, I will give you some requirements and an empty function\n",
    "# you need to finish this function\n",
    "# an example\n",
    "# return the sum of the three variables and they should be integers\n",
    "def homework_0_function_1(a, b, c):\n",
    "    if type(a) == int and type(b) == int and type(c) == int:\n",
    "        return a + b + c\n",
    "    return None\n",
    "credits = 0\n",
    "if (homework_0_function_1(1, 2, 3) == 6):\n",
    "    credits = credits + 1\n",
    "if (homework_0_function_1('a', 'b', 'c') == None):\n",
    "    credits = credits + 1\n",
    "print('you will get ' + str(credits) + ' credits')"
   ]
  },
  {
   "cell_type": "code",
   "execution_count": 47,
   "metadata": {},
   "outputs": [
    {
     "name": "stdout",
     "output_type": "stream",
     "text": [
      "1\n",
      "3\n",
      "5\n",
      "3\n",
      "6\n",
      "3.0\n",
      "1.0\n"
     ]
    }
   ],
   "source": [
    "a = 1\n",
    "print(a)\n",
    "a = a + 2\n",
    "print(a)\n",
    "a += 2\n",
    "print(a)\n",
    "a -= 2\n",
    "print(a)\n",
    "a *= 2\n",
    "print(a)\n",
    "a /= 2\n",
    "print(a)\n",
    "a //= 2\n",
    "print(a)\n",
    "# notice, in python, there is no a++ or a--"
   ]
  },
  {
   "cell_type": "code",
   "execution_count": 48,
   "metadata": {},
   "outputs": [
    {
     "name": "stdout",
     "output_type": "stream",
     "text": [
      "the input must be integer\n",
      "input must belong to interval [0, 100]\n",
      "A\n"
     ]
    }
   ],
   "source": [
    "# input a score, and determine A, B, C, D or F\n",
    "# A = [90, 100], B = [80, 89], C = [70, 79], D = [60, 69], F = [0, 59]\n",
    "# the input must be an integer\n",
    "def determine_score(x):\n",
    "    if type(x) != int:\n",
    "        print('the input must be integer')\n",
    "        return None\n",
    "    elif x > 100 or x < 0:\n",
    "        print('input must belong to interval [0, 100]')\n",
    "        return None\n",
    "    else:\n",
    "        if 90 <= x <= 100: # this is the same as (x >= 90 and x <= 100)\n",
    "            return 'A'\n",
    "        elif 80 <= x < 90:\n",
    "            return 'B'\n",
    "        elif 70 <= x < 80:\n",
    "            return 'C'\n",
    "        elif 60 <= x < 70:\n",
    "            return 'D'\n",
    "        else:\n",
    "            return 'F'\n",
    "\n",
    "determine_score(1.2)\n",
    "determine_score(-1)\n",
    "print(determine_score(95))"
   ]
  },
  {
   "cell_type": "code",
   "execution_count": 50,
   "metadata": {},
   "outputs": [
    {
     "name": "stdout",
     "output_type": "stream",
     "text": [
      "                                                                123456\n"
     ]
    }
   ],
   "source": [
    "# Exercise 1\n",
    "def right_justify(s):\n",
    "    length = len(s) # to get the length of a string\n",
    "    space = ' ' * (70 - length) # (70 - len(s)) spaces\n",
    "    print(space + s)\n",
    "right_justify('123456')"
   ]
  },
  {
   "cell_type": "code",
   "execution_count": 56,
   "metadata": {},
   "outputs": [
    {
     "name": "stdout",
     "output_type": "stream",
     "text": [
      "spam\n",
      "spam\n"
     ]
    }
   ],
   "source": [
    "def do_twice(f, x):\n",
    "    f(x)\n",
    "    f(x)\n",
    "def print_x(x):\n",
    "    print(x)\n",
    "do_twice(print_x, 'spam')"
   ]
  },
  {
   "cell_type": "code",
   "execution_count": 59,
   "metadata": {},
   "outputs": [
    {
     "name": "stdout",
     "output_type": "stream",
     "text": [
      "+ - - - - + - - - - +\n",
      "/         /         /\n",
      "/         /         /\n",
      "/         /         /\n",
      "/         /         /\n",
      "+ - - - - + - - - - +\n",
      "/         /         /\n",
      "/         /         /\n",
      "/         /         /\n",
      "/         /         /\n",
      "+ - - - - + - - - - +\n"
     ]
    }
   ],
   "source": [
    "print('+' + ' -' * 4 + ' +' + ' -' * 4 + ' +')\n",
    "print('/' + ' ' * 9 + '/' + ' ' * 9 + '/')\n",
    "print('/' + ' ' * 9 + '/' + ' ' * 9 + '/')\n",
    "print('/' + ' ' * 9 + '/' + ' ' * 9 + '/')\n",
    "print('/' + ' ' * 9 + '/' + ' ' * 9 + '/')\n",
    "print('+' + ' -' * 4 + ' +' + ' -' * 4 + ' +')\n",
    "print('/' + ' ' * 9 + '/' + ' ' * 9 + '/')\n",
    "print('/' + ' ' * 9 + '/' + ' ' * 9 + '/')\n",
    "print('/' + ' ' * 9 + '/' + ' ' * 9 + '/')\n",
    "print('/' + ' ' * 9 + '/' + ' ' * 9 + '/')\n",
    "print('+' + ' -' * 4 + ' +' + ' -' * 4 + ' +')"
   ]
  }
 ],
 "metadata": {
  "kernelspec": {
   "display_name": "Python 3.10.4 64-bit",
   "language": "python",
   "name": "python3"
  },
  "language_info": {
   "codemirror_mode": {
    "name": "ipython",
    "version": 3
   },
   "file_extension": ".py",
   "mimetype": "text/x-python",
   "name": "python",
   "nbconvert_exporter": "python",
   "pygments_lexer": "ipython3",
   "version": "3.10.4"
  },
  "orig_nbformat": 4,
  "vscode": {
   "interpreter": {
    "hash": "9acb8266650dfd934fba72c534178bc8d188bd9be05e52f4b6c1c63cddd8595d"
   }
  }
 },
 "nbformat": 4,
 "nbformat_minor": 2
}
