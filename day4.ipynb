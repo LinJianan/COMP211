{
 "cells": [
  {
   "cell_type": "code",
   "execution_count": 2,
   "metadata": {},
   "outputs": [
    {
     "name": "stdout",
     "output_type": "stream",
     "text": [
      "[2, 3]\n"
     ]
    }
   ],
   "source": [
    "def chop(input):\n",
    "    input.pop(0)\n",
    "    input.pop(-1)\n",
    "test_list = [1, 2, 3, 4]\n",
    "chop(test_list)\n",
    "print(test_list)"
   ]
  },
  {
   "cell_type": "code",
   "execution_count": 4,
   "metadata": {},
   "outputs": [
    {
     "name": "stdout",
     "output_type": "stream",
     "text": [
      "1\n",
      "1\n",
      "1\t3\n",
      "1\t3\n"
     ]
    }
   ],
   "source": [
    "# can function change the value of input?\n",
    "# if the input is a basic number, then it cannot be changed\n",
    "x = 1\n",
    "def f(x):\n",
    "    x += 1\n",
    "print(x)\n",
    "f(x)\n",
    "print(x)\n",
    "# in this way, we cannot implement function swap in python\n",
    "# but in c/c++, we can achieve this\n",
    "# if we want to swap two values in python, then we can only write this\n",
    "a, b = 1, 2\n",
    "a, b = b, a\n",
    "def swap(a, b):\n",
    "    a, b = b, a\n",
    "x, y = 1, 3\n",
    "print(str(x) + '\\t' + str(y))\n",
    "swap(x, y)\n",
    "print(str(x) + '\\t' + str(y))"
   ]
  },
  {
   "cell_type": "code",
   "execution_count": 6,
   "metadata": {},
   "outputs": [
    {
     "name": "stdout",
     "output_type": "stream",
     "text": [
      "123\n",
      "123\n"
     ]
    }
   ],
   "source": [
    "s = '123'\n",
    "def g(x):\n",
    "    x = x + '456'\n",
    "print(s)\n",
    "g(s)\n",
    "print(s)"
   ]
  },
  {
   "cell_type": "code",
   "execution_count": 8,
   "metadata": {},
   "outputs": [
    {
     "name": "stdout",
     "output_type": "stream",
     "text": [
      "True\n",
      "False\n"
     ]
    }
   ],
   "source": [
    "def is_sorted(input):\n",
    "    length = len(input)\n",
    "    for i in range(0, length - 1):\n",
    "        if input[i] > input[i + 1]:\n",
    "            return False\n",
    "    return True\n",
    "\n",
    "print(is_sorted([1, 2, 2]))\n",
    "print(is_sorted(['b', 'a']))"
   ]
  },
  {
   "cell_type": "markdown",
   "metadata": {},
   "source": [
    "We have an ASCII table, the important part of this table is big letter, small letter and numbers."
   ]
  },
  {
   "cell_type": "code",
   "execution_count": 12,
   "metadata": {},
   "outputs": [
    {
     "name": "stdout",
     "output_type": "stream",
     "text": [
      "True\n",
      "True\n",
      "True\n",
      "False\n"
     ]
    }
   ],
   "source": [
    "print('a' > 'A') # 97 is larger than 65\n",
    "print('aa' > 'aA') \n",
    "# when we compare strings\n",
    "# we first compare the first char\n",
    "# if they are the same, then we compare the second\n",
    "print('aa' == 'aa')\n",
    "print('aA' < 'a') # 0 is smaller than any positive number"
   ]
  },
  {
   "cell_type": "code",
   "execution_count": 14,
   "metadata": {},
   "outputs": [
    {
     "name": "stdout",
     "output_type": "stream",
     "text": [
      "['1', '2', '3', '4', '5', '6']\n",
      "123456\n"
     ]
    }
   ],
   "source": [
    "# how to transfer a string to a list\n",
    "s = '123456'\n",
    "t = list(s)\n",
    "print(t)\n",
    "\n",
    "# how to transfer a list to a string\n",
    "s = ['1', '2', '3', '4', '5', '6']\n",
    "t = ''.join(s)\n",
    "print(t)"
   ]
  },
  {
   "cell_type": "code",
   "execution_count": 16,
   "metadata": {},
   "outputs": [
    {
     "name": "stdout",
     "output_type": "stream",
     "text": [
      "True\n"
     ]
    }
   ],
   "source": [
    "def is_anagram(x, y):\n",
    "    list1 = list(x)\n",
    "    list1.sort()\n",
    "    list2 = list(y)\n",
    "    list2.sort()\n",
    "    return list1 == list2\n",
    "print(is_anagram('abc', 'cba'))\n",
    "# here, the compare of two lists are the same as strings\n",
    "# in fact, list and string are very similar"
   ]
  },
  {
   "cell_type": "code",
   "execution_count": 20,
   "metadata": {},
   "outputs": [
    {
     "name": "stdout",
     "output_type": "stream",
     "text": [
      "123456\n",
      "1\n",
      "6\n",
      "123\n",
      "654321\n"
     ]
    }
   ],
   "source": [
    "# string\n",
    "# the basic syntax of string is the same as list\n",
    "s = '123456'\n",
    "print(s)\n",
    "print(s[0])\n",
    "print(s[-1])\n",
    "print(s[0 : 3])\n",
    "print(s[::-1])"
   ]
  },
  {
   "cell_type": "code",
   "execution_count": 27,
   "metadata": {},
   "outputs": [
    {
     "name": "stdout",
     "output_type": "stream",
     "text": [
      "2\n",
      "0\n",
      "1\n",
      "True\n",
      "False\n",
      "False\n"
     ]
    }
   ],
   "source": [
    "s = 'aabbccc'\n",
    "print(s.count('a'))\n",
    "\n",
    "print(s.find('a'))\n",
    "# start from index 1 and end in 3\n",
    "print(s.find('a', 1, 3))\n",
    "\n",
    "s = 'abc123ABC'\n",
    "print(s.isalnum()) # letter or numnber\n",
    "print(s.isalpha()) # only letter\n",
    "print(s.isdigit()) # only number"
   ]
  },
  {
   "cell_type": "code",
   "execution_count": 30,
   "metadata": {},
   "outputs": [
    {
     "name": "stdout",
     "output_type": "stream",
     "text": [
      "1aaa2aaa3\n",
      "3\n"
     ]
    }
   ],
   "source": [
    "# join function is important\n",
    "s = 'aaa'\n",
    "test_list = ['1', '2', '3']\n",
    "result = s.join(test_list)\n",
    "print(result)\n",
    "\n",
    "print(len(s))"
   ]
  },
  {
   "cell_type": "code",
   "execution_count": 32,
   "metadata": {},
   "outputs": [
    {
     "name": "stdout",
     "output_type": "stream",
     "text": [
      "1\n",
      "2\n",
      "3\n",
      "4\n",
      "5\n",
      "6\n"
     ]
    }
   ],
   "source": [
    "s = '123456'\n",
    "for e in s:\n",
    "    print(e)"
   ]
  },
  {
   "cell_type": "code",
   "execution_count": 33,
   "metadata": {},
   "outputs": [
    {
     "name": "stdout",
     "output_type": "stream",
     "text": [
      "1456\n",
      "2456\n",
      "3456\n"
     ]
    }
   ],
   "source": [
    "a = '123'\n",
    "b = '456'\n",
    "for e in a:\n",
    "    print(e + b)"
   ]
  },
  {
   "cell_type": "code",
   "execution_count": 41,
   "metadata": {},
   "outputs": [
    {
     "name": "stdout",
     "output_type": "stream",
     "text": [
      "223456223456\n",
      "['123', '123', '123']\n",
      "['', '', '', '', '', '']\n",
      "['123', '123']\n",
      "123\n"
     ]
    }
   ],
   "source": [
    "# replace function\n",
    "s = '123456123456'\n",
    "# notice we should use the return value\n",
    "# because it is hard to modify input if input is a basic number or string\n",
    "print(s.replace('1', '2'))\n",
    "\n",
    "# split function\n",
    "s = '123,123,123'\n",
    "t = s.split(',')\n",
    "print(t)\n",
    "\n",
    "s = ',,,,,'\n",
    "t = s.split(',')\n",
    "print(t)\n",
    "\n",
    "s = '123 123'\n",
    "t = s.split() # the same as s.split(' ')\n",
    "print(t)\n",
    "\n",
    "s = '  123  '\n",
    "print(s.strip()) # remove the first and last space\n",
    "\n",
    "# notice string cannot be changed directly\n",
    "s = '123'\n",
    "# we can never write this\n",
    "# s[0] = 4"
   ]
  },
  {
   "cell_type": "code",
   "execution_count": 42,
   "metadata": {},
   "outputs": [
    {
     "name": "stdout",
     "output_type": "stream",
     "text": [
      "True\n"
     ]
    }
   ],
   "source": [
    "def is_palindrome(input):\n",
    "    return input == input[::-1]\n",
    "\n",
    "print(is_palindrome('12321'))"
   ]
  },
  {
   "cell_type": "code",
   "execution_count": 44,
   "metadata": {},
   "outputs": [
    {
     "name": "stdout",
     "output_type": "stream",
     "text": [
      "97\n",
      "a\n"
     ]
    }
   ],
   "source": [
    "# ord function, print the ASCII table number of a char\n",
    "# chr function, print the char of the ASCII table number\n",
    "print(ord('a'))\n",
    "print(chr(97))"
   ]
  },
  {
   "cell_type": "code",
   "execution_count": 46,
   "metadata": {},
   "outputs": [
    {
     "name": "stdout",
     "output_type": "stream",
     "text": [
      "False\n",
      "True\n"
     ]
    }
   ],
   "source": [
    "def any_lowercase1(s):\n",
    "    for c in s:\n",
    "        if c.islower():\n",
    "            return True\n",
    "        else:\n",
    "            return False\n",
    "    # return False\n",
    "print(any_lowercase1('Aa'))\n",
    "\n",
    "def any_lowercase2(s):\n",
    "    for c in s:\n",
    "        if 'c'.islower(): # this is always true\n",
    "            return 'True'\n",
    "        else:\n",
    "            return 'False'\n",
    "\n",
    "def any_lowercase3(s):\n",
    "    flag = False\n",
    "    for c in s:\n",
    "        flag = c.islower() or flag\n",
    "    return flag\n",
    "\n",
    "print(any_lowercase3('Aa'))\n",
    "\n",
    "def any_lowercase5(s):\n",
    "    for c in s:\n",
    "        if c.islower():\n",
    "            return True\n",
    "    return False"
   ]
  },
  {
   "cell_type": "code",
   "execution_count": 48,
   "metadata": {},
   "outputs": [
    {
     "name": "stdout",
     "output_type": "stream",
     "text": [
      "zabc\n"
     ]
    }
   ],
   "source": [
    "def rotate_word(word, num):\n",
    "    # here we suppose all the letters are lower-case\n",
    "    num = num % 26\n",
    "    result = ''\n",
    "    for w in word:\n",
    "        n = ord(w) + num\n",
    "        if n > ord('z'):\n",
    "            n -= 26\n",
    "        result = result + chr(n)\n",
    "    return result\n",
    "\n",
    "print(rotate_word('abcd', 25))\n"
   ]
  },
  {
   "cell_type": "code",
   "execution_count": 49,
   "metadata": {},
   "outputs": [
    {
     "name": "stdout",
     "output_type": "stream",
     "text": [
      "False\n"
     ]
    }
   ],
   "source": [
    "def check_fermat(a, b, c, n):\n",
    "    return a ** n + b ** n == c ** n\n",
    "print(check_fermat(1, 2, 3, 3))"
   ]
  },
  {
   "cell_type": "code",
   "execution_count": 51,
   "metadata": {},
   "outputs": [
    {
     "name": "stdout",
     "output_type": "stream",
     "text": [
      "6\n"
     ]
    }
   ],
   "source": [
    "# this function prints 1 + 2 +.... + n + s\n",
    "def recurse(n, s):\n",
    "    if n <= 0:\n",
    "        print(s)\n",
    "    else:\n",
    "        recurse(n-1, n+s)\n",
    "\n",
    "recurse(3, 0)"
   ]
  }
 ],
 "metadata": {
  "kernelspec": {
   "display_name": "Python 3.10.4 64-bit",
   "language": "python",
   "name": "python3"
  },
  "language_info": {
   "codemirror_mode": {
    "name": "ipython",
    "version": 3
   },
   "file_extension": ".py",
   "mimetype": "text/x-python",
   "name": "python",
   "nbconvert_exporter": "python",
   "pygments_lexer": "ipython3",
   "version": "3.10.4"
  },
  "orig_nbformat": 4,
  "vscode": {
   "interpreter": {
    "hash": "9acb8266650dfd934fba72c534178bc8d188bd9be05e52f4b6c1c63cddd8595d"
   }
  }
 },
 "nbformat": 4,
 "nbformat_minor": 2
}
