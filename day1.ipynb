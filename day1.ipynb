{
 "cells": [
  {
   "cell_type": "markdown",
   "metadata": {},
   "source": [
    "The most important thing: 5 assignments with 8 credits; midterm and final exam with 30 credits.\n",
    "\n",
    "textbook: https://greenteapress.com/thinkpython2/html/index.html\n",
    "\n",
    "The textbook is not detailed, so the following two links are also recommended.\n",
    "\n",
    "https://www.w3schools.com/python/default.asp\n",
    "\n",
    "https://www.runoob.com/python3/python3-tutorial.html\n",
    "\n",
    "You can regard these two as handbooks."
   ]
  },
  {
   "cell_type": "markdown",
   "metadata": {},
   "source": [
    "It is recommended to use VS Code. Also if you only want to finish the homework and get the credits, you can also use other softwares: pycharm, jupyter, google colab, etc. All the softwares can finish the homework, but VS Code is shown in class and if you meet problems, I can tell you how to fix it.\n",
    "\n",
    "Did you install python in you computer?\n",
    "\n",
    "Search python in google; choose download -> windows / mac / other platform -> 3.10.5 is recommened, but I think all versions after 3.6 are OK.\n",
    "\n",
    "Download the exe file, and install it.\n",
    "\n",
    "After you install python, you can open terminal / cmd / powershell and type \"python --version\" to see whether you install it successfully.\n",
    "\n",
    "Then we install VS Code, which is easy. Also we need to install python and jupyter plug-in in VS Code."
   ]
  },
  {
   "cell_type": "code",
   "execution_count": 1,
   "metadata": {},
   "outputs": [
    {
     "name": "stdout",
     "output_type": "stream",
     "text": [
      "The Zen of Python, by Tim Peters\n",
      "\n",
      "Beautiful is better than ugly.\n",
      "Explicit is better than implicit.\n",
      "Simple is better than complex.\n",
      "Complex is better than complicated.\n",
      "Flat is better than nested.\n",
      "Sparse is better than dense.\n",
      "Readability counts.\n",
      "Special cases aren't special enough to break the rules.\n",
      "Although practicality beats purity.\n",
      "Errors should never pass silently.\n",
      "Unless explicitly silenced.\n",
      "In the face of ambiguity, refuse the temptation to guess.\n",
      "There should be one-- and preferably only one --obvious way to do it.\n",
      "Although that way may not be obvious at first unless you're Dutch.\n",
      "Now is better than never.\n",
      "Although never is often better than *right* now.\n",
      "If the implementation is hard to explain, it's a bad idea.\n",
      "If the implementation is easy to explain, it may be a good idea.\n",
      "Namespaces are one honking great idea -- let's do more of those!\n"
     ]
    }
   ],
   "source": [
    "# Let's run our first python program\n",
    "import this"
   ]
  },
  {
   "cell_type": "markdown",
   "metadata": {},
   "source": [
    "There are two kinds of python files in this class. The first one is named \"balabala.py\", and the second one is named \"balabala.ipynb\". The second one is being shown now, and it is called jupyter notebook. It includes some python files (.py) and some text files (.md). You can create a new python or text file in jupyter.\n",
    "\n",
    "In the homework, we only use python file \"assignment1.py\"."
   ]
  },
  {
   "cell_type": "code",
   "execution_count": 6,
   "metadata": {},
   "outputs": [
    {
     "name": "stdout",
     "output_type": "stream",
     "text": [
      "hello world!\n",
      "hello world!\thello world!\n",
      "hello world!\n",
      "\n",
      "hello world!\n"
     ]
    }
   ],
   "source": [
    "# how to print\n",
    "print('hello world!')\n",
    "print('hello world!\\thello world!')\n",
    "print('hello world!\\n')\n",
    "print(\"hello world!\")"
   ]
  },
  {
   "cell_type": "code",
   "execution_count": 14,
   "metadata": {},
   "outputs": [
    {
     "name": "stdout",
     "output_type": "stream",
     "text": [
      "2\n",
      "-1\n",
      "32\n",
      "2.6666666666666665\n",
      "3\n",
      "2\n",
      "16\n"
     ]
    }
   ],
   "source": [
    "# how to use basic operator\n",
    "print(1 + 1)\n",
    "print(2 - 3)\n",
    "print(4 * 8)\n",
    "print(8 / 3)\n",
    "# 11 / 3 = 3 ...... 2\n",
    "print(11 // 3)\n",
    "print(11 % 3)\n",
    "# 2 ^ 4\n",
    "print(2 ** 4)"
   ]
  },
  {
   "cell_type": "code",
   "execution_count": 17,
   "metadata": {},
   "outputs": [
    {
     "name": "stdout",
     "output_type": "stream",
     "text": [
      "2.718281828459045\n",
      "3.141592653589793\n",
      "inf\n",
      "2.0\n",
      "2.0\n",
      "3.0\n",
      "3.0\n"
     ]
    }
   ],
   "source": [
    "# what if we want more math functions?\n",
    "# ctrl (command in mac) + mouse left click\n",
    "import math\n",
    "\n",
    "# first we write the constants\n",
    "# e is the natrual base number\n",
    "print(math.e)\n",
    "# pi is the famous 3.14159\n",
    "print(math.pi)\n",
    "# inf is the infinite, which is larger than any number\n",
    "print(math.inf)\n",
    "\n",
    "# then we try log function\n",
    "print(math.log(math.e ** 2, math.e))\n",
    "print(math.log(math.e ** 2))\n",
    "log = math.log\n",
    "print(log(8, 2))\n",
    "print(math.log(8, 2))"
   ]
  },
  {
   "cell_type": "code",
   "execution_count": 22,
   "metadata": {},
   "outputs": [
    {
     "name": "stdout",
     "output_type": "stream",
     "text": [
      "I major in computer science\n",
      "I also major in math\n",
      "I major in computer science<blank>I also major in math\n"
     ]
    }
   ],
   "source": [
    "# what is the technique of print\n",
    "print('I major in computer science', end = '\\n')\n",
    "print('I also major in math')\n",
    "\n",
    "# we do not want to start a new line\n",
    "print('I major in computer science', end = \"<blank>\")\n",
    "print('I also major in math')"
   ]
  },
  {
   "cell_type": "code",
   "execution_count": 24,
   "metadata": {},
   "outputs": [
    {
     "name": "stdout",
     "output_type": "stream",
     "text": [
      "hello world\n",
      "2\n",
      "helloworld\n"
     ]
    }
   ],
   "source": [
    "# string\n",
    "# this is a string\n",
    "'hello world'\n",
    "# what we print is usually a string (but not always)\n",
    "print('hello world') # this is string\n",
    "print(1 + 1) # this is not a string\n",
    "\n",
    "print('hello' + 'world')\n",
    "# we can not use -, *, / between strings"
   ]
  },
  {
   "cell_type": "code",
   "execution_count": 25,
   "metadata": {},
   "outputs": [
    {
     "name": "stdout",
     "output_type": "stream",
     "text": [
      "1\n",
      "hello world\n"
     ]
    }
   ],
   "source": [
    "# variable\n",
    "# we can give a name\n",
    "a = 1\n",
    "print(a)\n",
    "b = 'hello world'\n",
    "print(b)\n",
    "\n",
    "# what's the requirement of the name?\n",
    "# Usually it starts with alphabet character, A-Z and a-z\n",
    "# It can only include A-Z, a-z, 0-9 and _\n",
    "# If we want other people read the code easily, we'd better use the word\n",
    "my_height = 175 # this is better\n",
    "h = 175 # this is not recommended\n",
    "\n",
    "# There are many key words we cannot use as the name.\n",
    "# See in https://greenteapress.com/thinkpython2/html/thinkpython2003.html#sec17"
   ]
  },
  {
   "cell_type": "code",
   "execution_count": 30,
   "metadata": {},
   "outputs": [
    {
     "name": "stdout",
     "output_type": "stream",
     "text": [
      "<class 'int'>\n",
      "<class 'float'>\n",
      "<class 'str'>\n",
      "<class 'str'>\n",
      "<class 'bool'>\n"
     ]
    }
   ],
   "source": [
    "# a function called type\n",
    "# this is an integer number\n",
    "print(type(1))\n",
    "# this is a float number\n",
    "print(type(1.0))\n",
    "# this is a string, notice there is no char in python\n",
    "print(type('s'))\n",
    "print(type('hhhhhhh'))\n",
    "# this is boolean\n",
    "print(type(False))"
   ]
  },
  {
   "cell_type": "code",
   "execution_count": 40,
   "metadata": {},
   "outputs": [
    {
     "name": "stdout",
     "output_type": "stream",
     "text": [
      "True\n",
      "False\n",
      "True\n",
      "True\n",
      "0.2\n",
      "0.30000000000000004\n",
      "True\n",
      "False\n",
      "5.551115123125783e-17\n",
      "True\n"
     ]
    }
   ],
   "source": [
    "# <, > and ==\n",
    "print(1 < 2)\n",
    "print(2 < 1)\n",
    "print(1 == 1)\n",
    "print(1 == 1.0)\n",
    "\n",
    "# here comes a very strange thing\n",
    "print(0.1 + 0.1)\n",
    "print(0.1 + 0.2)\n",
    "print(0.1 + 0.1 == 0.2)\n",
    "print(0.1 + 0.2 == 0.3)\n",
    "\n",
    "# python is not very accurate while calculating float number\n",
    "# it is recommended to use abs(value) to determine\n",
    "result = abs(0.1 + 0.2 - 0.3)\n",
    "print(result)\n",
    "\n",
    "# We can use this way to determine equal\n",
    "print(abs(0.1 + 0.2 - 0.3) < 0.000000001)"
   ]
  },
  {
   "cell_type": "code",
   "execution_count": 43,
   "metadata": {},
   "outputs": [
    {
     "name": "stdout",
     "output_type": "stream",
     "text": [
      "True\n",
      "False\n",
      "False\n",
      "False\n",
      "True\n",
      "True\n",
      "True\n",
      "False\n",
      "False\n",
      "True\n"
     ]
    }
   ],
   "source": [
    "print(True and True)\n",
    "print(True and False)\n",
    "print(False and True)\n",
    "print(False and False)\n",
    "\n",
    "print(True or True)\n",
    "print(True or False)\n",
    "print(False or True)\n",
    "print(False or False)\n",
    "\n",
    "print(not True)\n",
    "print(not False)"
   ]
  },
  {
   "cell_type": "code",
   "execution_count": null,
   "metadata": {},
   "outputs": [],
   "source": [
    "# comments\n",
    "# There are two ways to write comments\n",
    "# The first way is to use \"#\" which start a line\n",
    "\"\"\"\n",
    "The second way is to use this\n",
    "we can have a very long comment\n",
    "\n",
    "\n",
    "\n",
    "we can use many lines\n",
    "\"\"\""
   ]
  },
  {
   "cell_type": "code",
   "execution_count": 60,
   "metadata": {},
   "outputs": [
    {
     "name": "stdout",
     "output_type": "stream",
     "text": [
      "hello1\n",
      "11.99\n",
      "abcabcabcabcabc\n",
      "123\n",
      "-123\n",
      "123.456\n",
      "123.0\n",
      "123456789123456789\n",
      "123456789123456789\n",
      "1000000.0\n",
      "1000000.0\n",
      "True\n"
     ]
    }
   ],
   "source": [
    "# usage of string\n",
    "a = 'hello'\n",
    "b = 1\n",
    "print(a + str(b))\n",
    "# str(a) is a function to transfer something to a string\n",
    "print(str(11.99))\n",
    "# There is a very interesting way in string\n",
    "print('abc' * 5)\n",
    "\n",
    "# how to transfer a string to a number\n",
    "print(int('123'))\n",
    "print(int('-123'))\n",
    "print(float('123.456'))\n",
    "print(float('123'))\n",
    "\n",
    "# how can we denote a large number\n",
    "a = 123456789123456789\n",
    "print(a)\n",
    "a = 123_456_789_123_456_789\n",
    "print(a)\n",
    "a = 1E6\n",
    "print(a)\n",
    "a = 1e6\n",
    "print(a)\n",
    "a = 1.5e-5\n",
    "print(a == 0.000015)"
   ]
  },
  {
   "cell_type": "code",
   "execution_count": 64,
   "metadata": {},
   "outputs": [
    {
     "name": "stdout",
     "output_type": "stream",
     "text": [
      "1\n",
      "1\n",
      "2\n",
      "1\n",
      "[1, 2, 3]\n",
      "[1, 2, 3]\n",
      "[2, 2, 3]\n",
      "[2, 2, 3]\n"
     ]
    }
   ],
   "source": [
    "# this is not recommended\n",
    "a = b = 1\n",
    "# this is better\n",
    "a, b = 1, 1\n",
    "print(a)\n",
    "print(b)\n",
    "a = 2\n",
    "print(a)\n",
    "print(b)\n",
    "\n",
    "a = b = [1, 2, 3]\n",
    "print(a)\n",
    "print(b)\n",
    "\n",
    "a[0] = 2\n",
    "print(a)\n",
    "print(b)"
   ]
  }
 ],
 "metadata": {
  "kernelspec": {
   "display_name": "Python 3.10.4 64-bit",
   "language": "python",
   "name": "python3"
  },
  "language_info": {
   "codemirror_mode": {
    "name": "ipython",
    "version": 3
   },
   "file_extension": ".py",
   "mimetype": "text/x-python",
   "name": "python",
   "nbconvert_exporter": "python",
   "pygments_lexer": "ipython3",
   "version": "3.10.4"
  },
  "orig_nbformat": 4,
  "vscode": {
   "interpreter": {
    "hash": "9acb8266650dfd934fba72c534178bc8d188bd9be05e52f4b6c1c63cddd8595d"
   }
  }
 },
 "nbformat": 4,
 "nbformat_minor": 2
}
