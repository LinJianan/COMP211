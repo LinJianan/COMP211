{
 "cells": [
  {
   "cell_type": "code",
   "execution_count": 4,
   "metadata": {},
   "outputs": [
    {
     "name": "stdout",
     "output_type": "stream",
     "text": [
      "Bill\n",
      "30\n",
      "M\n",
      "My name is Bill; age is 30; sex is M\n",
      "My name is Alice; age is 20; sex is F\n"
     ]
    }
   ],
   "source": [
    "# class\n",
    "class Person:\n",
    "    \n",
    "    # initialize the class, self means this class\n",
    "    def __init__(self, name: str, age: int, sex: str):\n",
    "        self.name = name\n",
    "        self.age = age\n",
    "        self.sex = sex\n",
    "\n",
    "    # print some string, whenever we write a function in class, we should add 'self'\n",
    "    def introduce(self):\n",
    "        print('My name is ' + self.name + '; age is ' + str(self.age) + '; sex is ' + self.sex)\n",
    "\n",
    "Person1 = Person('Bill', 30, 'M')\n",
    "print(Person1.name)\n",
    "print(Person1.age)\n",
    "print(Person1.sex)\n",
    "\n",
    "Person1.introduce()\n",
    "\n",
    "Person1.name = 'Alice'\n",
    "Person1.age = 20\n",
    "Person1.sex = 'F'\n",
    "Person1.introduce()"
   ]
  },
  {
   "cell_type": "code",
   "execution_count": 7,
   "metadata": {},
   "outputs": [
    {
     "name": "stdout",
     "output_type": "stream",
     "text": [
      "My name is Alice; age is 20; sex is F\n",
      "1\n",
      "0\n",
      "[]\n"
     ]
    }
   ],
   "source": [
    "class Group:\n",
    "\n",
    "    def __init__(self):\n",
    "        self.members = []\n",
    "\n",
    "    def add(self, person: Person):\n",
    "        self.members.append(person)\n",
    "\n",
    "    def remove(self):\n",
    "        self.members.pop(-1)\n",
    "\n",
    "    def numbers(self):\n",
    "        return len(self.members)\n",
    "\n",
    "Group1 = Group()\n",
    "Group1.add(Person1)\n",
    "Group1.members[0].introduce()\n",
    "\n",
    "print(Group1.numbers())\n",
    "Group1.remove()\n",
    "print(Group1.numbers())\n",
    "print(Group1.members)\n"
   ]
  },
  {
   "cell_type": "code",
   "execution_count": 16,
   "metadata": {},
   "outputs": [
    {
     "name": "stdout",
     "output_type": "stream",
     "text": [
      "My name is Bill; age is 30; sex is M\n",
      "Bill\n",
      "30\n",
      "M\n",
      "My name is Alice; age is 20; sex is F\n",
      "My name is Alice\n",
      "I am 20 years old\n",
      "I'm a girl\n"
     ]
    }
   ],
   "source": [
    "class Private_Person:\n",
    "\n",
    "    def __init__(self, name, age, sex):\n",
    "        # two underlines before the attributes mean this is private\n",
    "        # we cannot have access to them outside the class\n",
    "        self.__name = name\n",
    "        self.__age = age\n",
    "        self.__sex = sex\n",
    "\n",
    "    def introduce(self):\n",
    "        print('My name is ' + self.__name + '; age is ' + str(self.__age) + '; sex is ' + self.__sex)\n",
    "\n",
    "    def get_name(self):\n",
    "        return self.__name\n",
    "\n",
    "    def get_age(self):\n",
    "        return self.__age\n",
    "\n",
    "    def get_sex(self):\n",
    "        return self.__sex\n",
    "\n",
    "    def set_name(self, name):\n",
    "        self.__name = name\n",
    "\n",
    "    def set_age(self, age):\n",
    "        self.__age = age\n",
    "\n",
    "    def set_sex(self, sex):\n",
    "        self.__sex = sex\n",
    "    \n",
    "    def __say_name(self):\n",
    "        print('My name is ' + self.__name)\n",
    "\n",
    "    def __say_age(self):\n",
    "        print('I am ' + str(self.__age) + ' years old')\n",
    "    \n",
    "    def __say_sex(self):\n",
    "        if self.__sex == 'M':\n",
    "            print('I\\'m a boy')\n",
    "        else:\n",
    "            print('I\\'m a girl')\n",
    "\n",
    "    def say(self):\n",
    "        self.__say_name()\n",
    "        self.__say_age()\n",
    "        self.__say_sex()\n",
    "\n",
    "Private_Person1 = Private_Person('Bill', 30, 'M')\n",
    "Private_Person1.introduce()\n",
    "# we can not use print(Private_Person1.__name) to print the private attribute\n",
    "print(Private_Person1.get_name())\n",
    "print(Private_Person1.get_age())\n",
    "print(Private_Person1.get_sex())\n",
    "\n",
    "Private_Person1.set_name('Alice')\n",
    "Private_Person1.set_age(20)\n",
    "Private_Person1.set_sex('F')\n",
    "\n",
    "Private_Person1.introduce()\n",
    "\n",
    "# we cannot use Private_Person1.__say_age() function because it is private\n",
    "Private_Person1.say()"
   ]
  },
  {
   "cell_type": "markdown",
   "metadata": {},
   "source": [
    "Why do we use private attribute or functions?\n",
    "This is because, maybe we do not want other people to use these things.\n",
    "For example, I write a class and there are 10 functions in it.\n",
    "But there are 2 functions I want other people to use directly. \n",
    "And in fact, the other 8 are all supporting functions for these 2.\n",
    "Maybe I want to modify them to let these two public functions run more efficiently.\n",
    "If other people use these 8 functions, then it is hard to modify them without influence."
   ]
  },
  {
   "cell_type": "code",
   "execution_count": 20,
   "metadata": {},
   "outputs": [
    {
     "name": "stdout",
     "output_type": "stream",
     "text": [
      "3628800\n",
      "0.7071063120935573\n"
     ]
    }
   ],
   "source": [
    "# let's read this library and we can find some private functions\n",
    "import collections\n",
    "import math\n",
    "\n",
    "class My_math:\n",
    "\n",
    "    def __init__(self, user):\n",
    "        self.__user = user\n",
    "        self.pi = 3.14159\n",
    "\n",
    "    def __set_user(self, user):\n",
    "        self.__user = user\n",
    "\n",
    "    def __get_user(self):\n",
    "        return self.__user\n",
    "\n",
    "    def factorial(self, x):\n",
    "        if x == 0 or x == 1:\n",
    "            return 1\n",
    "        else:\n",
    "            return x * self.factorial(x - 1)\n",
    "\n",
    "    def sin(self, x):\n",
    "        # T = 2pi\n",
    "        if x < 0:\n",
    "            return -self.sin(-x)\n",
    "        # if x is 3.5pi, then it will be 1.5pi, then -0.5pi, then 0.5pi\n",
    "        if x > self.pi:\n",
    "            return self.sin(x - 2 * self.pi)\n",
    "        # symmetric\n",
    "        if 0.5 * self.pi < x < self.pi:\n",
    "            return self.sin(self.pi - x)\n",
    "        # then we do the iteration\n",
    "        # result is what we return\n",
    "        result = x\n",
    "        # flag means - or +\n",
    "        flag = 1\n",
    "        # factorial is n!\n",
    "        factorial = 1\n",
    "        # temp is x^n\n",
    "        temp = x\n",
    "        for i in range(1, 10):\n",
    "            flag = -flag\n",
    "            factorial = factorial * (2 * i) * (2 * i + 1)\n",
    "            temp = temp * x * x\n",
    "            result = result + flag * temp / factorial\n",
    "        return result\n",
    "\n",
    "\n",
    "Library = My_math('Lin')\n",
    "print(Library.factorial(10))\n",
    "print(Library.sin(Library.pi / 4))\n"
   ]
  }
 ],
 "metadata": {
  "kernelspec": {
   "display_name": "Python 3.10.4 64-bit",
   "language": "python",
   "name": "python3"
  },
  "language_info": {
   "codemirror_mode": {
    "name": "ipython",
    "version": 3
   },
   "file_extension": ".py",
   "mimetype": "text/x-python",
   "name": "python",
   "nbconvert_exporter": "python",
   "pygments_lexer": "ipython3",
   "version": "3.10.4"
  },
  "orig_nbformat": 4,
  "vscode": {
   "interpreter": {
    "hash": "9acb8266650dfd934fba72c534178bc8d188bd9be05e52f4b6c1c63cddd8595d"
   }
  }
 },
 "nbformat": 4,
 "nbformat_minor": 2
}
