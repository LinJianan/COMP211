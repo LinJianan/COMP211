{
 "cells": [
  {
   "cell_type": "code",
   "execution_count": null,
   "metadata": {},
   "outputs": [],
   "source": [
    "# dynamic programming\n",
    "\n",
    "\"\"\"\n",
    "Dynamic Programming is similar to recursion and it is used in\n",
    "algorithm design.\n",
    "In dynamic programming, we have known some value, and we use these\n",
    "values to get new values.\n",
    "The simplest example: Fibonacci sequence. What is the n-th number?\n",
    "We can calculate one by one: 0, 1, 1, 2, 3, 5, 8, ......\n",
    "What if we design the algorithm in recursion? Let\n",
    "F (n) = F (n - 1) + F (n - 2) and until n = 1?\n",
    "We will meet a huge time complexity because F (i) will be calculated\n",
    "many times!\n",
    "\"\"\"\n"
   ]
  },
  {
   "cell_type": "code",
   "execution_count": 1,
   "metadata": {},
   "outputs": [
    {
     "name": "stdout",
     "output_type": "stream",
     "text": [
      "17\n"
     ]
    }
   ],
   "source": [
    "\"\"\"\n",
    "Consider this problem: I can choose city A or B to work each week.\n",
    "For week i, I will earn A[i], B[i] in these two cities respectively. But if I\n",
    "choose another city some week, I have to pay for the transportation fee\n",
    "c which is fixed. How much money can I have for the first n > 1 weeks?\n",
    "Can we use the simple idea: Choose the city with higher salary each\n",
    "week?\n",
    "The answer is no! \n",
    "\"\"\"\n",
    "\"\"\"\n",
    "How to solve it in dynamic programming?\n",
    "We use x[i] to denote if I work in city A in week i, \n",
    "the most money I can have for the first i weekes.\n",
    "We use y[i] to denote if I work in city B in week i, \n",
    "the most money I can have for the first i weekes.\n",
    "\"\"\"\n",
    "\n",
    "def earnMoney(A, B, c):\n",
    "    n = len(A)\n",
    "    # consider base case\n",
    "    x, y = [0 for i in range(n)], [0 for i in range(n)]\n",
    "    x[0], y[0] = A[0], B[0]\n",
    "    # iteration part\n",
    "    for i in range(1, n):\n",
    "        x[i] = A[i] + max(x[i - 1], y[i - 1] - c)\n",
    "        y[i] = B[i] + max(y[i - 1], x[i - 1] - c)\n",
    "    # return the max of x[n - 1] and y[n - 1]\n",
    "    return max(x[n - 1], y[n - 1])\n",
    "\n",
    "print(earnMoney([1, 2, 3, 4, 5], [2, 3, 4, 5, 1], 2))"
   ]
  },
  {
   "cell_type": "code",
   "execution_count": 2,
   "metadata": {},
   "outputs": [
    {
     "name": "stdout",
     "output_type": "stream",
     "text": [
      "25\n"
     ]
    }
   ],
   "source": [
    "\"\"\"\n",
    "Dynamic Programming\n",
    "Problem: We have some vertices in order: v1 → v2 →... → vn. Each\n",
    "vertex is worth c[i] money. We want to pick the vertices with the most\n",
    "money. However, we cannot pick the adjacent vertices. This means\n",
    "that: if we pick vi, then we cannot pick v(i-1) and v(i+1) anymore. Write\n",
    "an algorithm to calculate the largest money we can get.\n",
    "\"\"\"\n",
    "\n",
    "def largestMoney(c: list):\n",
    "    # let x[i] denote the largest money I pick vi as the last vertex\n",
    "    # here, notice index is from 0 to n - 1\n",
    "    n = len(c)\n",
    "    x = [0 for i in range(n)]\n",
    "    # base case\n",
    "    x[0] = c[0]\n",
    "    x[1] = max(c[0], c[1])\n",
    "    x[2] = max(c[0] + c[2], c[1])\n",
    "    # iteration part\n",
    "    for i in range(3, n):\n",
    "        x[i] = c[i] + max(x[i - 2], x[i - 3])\n",
    "    return max(x[n - 1], x[n - 2])\n",
    "\n",
    "print(largestMoney([1, 2, 3, 4, 5, 6, 7, 8, 9]))"
   ]
  },
  {
   "cell_type": "code",
   "execution_count": 3,
   "metadata": {},
   "outputs": [
    {
     "name": "stdout",
     "output_type": "stream",
     "text": [
      "2\n"
     ]
    }
   ],
   "source": [
    "\"\"\"\n",
    "We have infinite coins worth 1, 2, 4, 5. Given an arbitrary number\n",
    "(positive integer), what is the minimum number of coins we need to\n",
    "denote it? Write an algorithm.\n",
    "Can we use the following idea? First use 5, then 4, then 2, last 1.\n",
    "The answer is no: 8 = 4 + 4, but in this idea, 8 = 5 + 2 + 1\n",
    "\"\"\"\n",
    "\n",
    "def minCoin(num):\n",
    "    # use x[i] to denote the least number of coins we need to denote i\n",
    "    x = [0 for i in range(num + 1)]\n",
    "    # we will skip x[0]\n",
    "    # base case\n",
    "    x[1], x[2], x[3], x[4], x[5] = 1, 1, 2, 1, 1\n",
    "    # iteration\n",
    "    # if we can use c coins to denote num - 1 / 2 / 4 / 5\n",
    "    # then we can use c + 1 coins to denote num\n",
    "    for i in range(6, num + 1):\n",
    "        x[i] = 1 + min(x[i - 1], x[i - 2], x[i - 4], x[i - 5])\n",
    "    return x[num]\n",
    "\n",
    "print(minCoin(8))"
   ]
  },
  {
   "cell_type": "code",
   "execution_count": 4,
   "metadata": {},
   "outputs": [
    {
     "name": "stdout",
     "output_type": "stream",
     "text": [
      "8\n"
     ]
    }
   ],
   "source": [
    "\"\"\"\n",
    "We have a sequence of number a1, ..., an. All the numbers are real\n",
    "number and it can be positive, negative or 0. We want find a\n",
    "consecutive sequence ai, ai+1, ..., ai+j so that it has the largest sum.\n",
    "Design an O(n) algorithm\n",
    "\"\"\"\n",
    "\n",
    "def largestSum(A: list):\n",
    "    # let x[i] denote the largest sum of consecutive sequences ending in A[i]\n",
    "    n = len(A)\n",
    "    x = [0 for i in range(n)]\n",
    "    x[0] = A[0]\n",
    "    for i in range(1, n):\n",
    "        # if x[i - 1] < 0, then we should start from i\n",
    "        x[i] = max(0, x[i - 1]) + A[i]\n",
    "    return max(x)\n",
    "\n",
    "print(largestSum([5, 2, -8, 5, 3]))"
   ]
  },
  {
   "cell_type": "code",
   "execution_count": 6,
   "metadata": {},
   "outputs": [
    {
     "name": "stdout",
     "output_type": "stream",
     "text": [
      "5\n"
     ]
    }
   ],
   "source": [
    "\"\"\"\n",
    "We have a sequence of number a1, ..., an. All the numbers are real\n",
    "number and it can be positive, negative or 0. We want find the longest\n",
    "sequence (not necessarily consecutive) ai, aj , ..., ak so that it is\n",
    "increasing. Design an O(n^2) algorithm.\n",
    "\"\"\"\n",
    "\n",
    "def longestSeq(A):\n",
    "    # let x[i] denote the longest length of sequence ending with A[i]\n",
    "    n = len(A)\n",
    "    x = [1 for i in range(n)] # notice, intialize should be 1, instead of 0\n",
    "    # this is because all the places should have length at least 1\n",
    "    x[0] = 1\n",
    "    for i in range(1, n):\n",
    "        # we find all the numbers before A[i], if A[j] < A[i]\n",
    "        # then i can be an extension of j in increasing sequence\n",
    "        # so we should find the longest one after iteration\n",
    "        for j in range(0, i):\n",
    "            if A[i] > A[j]:\n",
    "                x[i] = max(x[i], 1 + x[j])\n",
    "    return max(x)\n",
    "\n",
    "print(longestSeq([5, 2, 4, 6, 8, 1, 3, 10]))"
   ]
  },
  {
   "cell_type": "code",
   "execution_count": 8,
   "metadata": {},
   "outputs": [
    {
     "name": "stdout",
     "output_type": "stream",
     "text": [
      "89\n"
     ]
    }
   ],
   "source": [
    "\"\"\"\n",
    "Dynamic Programming\n",
    "We want to move n steps. Each time we can either move 1 or 2 steps.\n",
    "How many different ways we can choose to move n steps?\n",
    "similar to fibonacci\n",
    "\"\"\"\n",
    "\n",
    "def moveWays(n):\n",
    "    x = [0 for i in range(n)]\n",
    "    # we can reach the 2-nd step by 1 + 1 or 0 + 2\n",
    "    x[0], x[1] = 1, 2\n",
    "    # we can reach i from i - 1 or i - 2\n",
    "    for i in range(2, n):\n",
    "        x[i] = x[i - 1] + x[i - 2]\n",
    "    return x[n - 1]\n",
    "\n",
    "print(moveWays(10))\n",
    "# 1, 2, 3, 5, 8, 13, 21, 34, 55, 89"
   ]
  },
  {
   "cell_type": "code",
   "execution_count": 10,
   "metadata": {},
   "outputs": [
    {
     "name": "stdout",
     "output_type": "stream",
     "text": [
      "252\n"
     ]
    }
   ],
   "source": [
    "\"\"\"\n",
    "We have a matrix with coordinate (0, 0), (0, n), (m, 0), (m, n). Here\n",
    "m, n ≥ 1. A robot start from (0, 0) and wants to move to (m, n). It can\n",
    "only stays in integer point (e.g. (1, 2)), and it can only move towards\n",
    "right or top. How many different ways are there? Design an O(mn)\n",
    "algorithm.\n",
    "\"\"\"\n",
    "\n",
    "def matrixWays(m, n):\n",
    "    # let x[i][j] be the number of ways from (0, 0) to (i, j)\n",
    "    x = [[1 for i in range(n + 1)] for i in range(m + 1)]\n",
    "    # base case, all x[0][j] and x[i][0] = 1\n",
    "    # since we have initialied, we do not operate again\n",
    "    # iteration part\n",
    "    for i in range(1, m + 1):\n",
    "        for j in range(1, n + 1):\n",
    "            x[i][j] = x[i - 1][j] + x[i][j - 1]\n",
    "    return x[m][n]\n",
    "\n",
    "print(matrixWays(5, 5))"
   ]
  },
  {
   "cell_type": "code",
   "execution_count": 11,
   "metadata": {},
   "outputs": [
    {
     "name": "stdout",
     "output_type": "stream",
     "text": [
      "42\n"
     ]
    }
   ],
   "source": [
    "\"\"\"\n",
    "Same as the last problem. The only difference is\n",
    "the robot can only stay in point (i, j) with i <= j, i, j are integers\n",
    "how many ways? here we guarantee m <= n\n",
    "\"\"\"\n",
    "\n",
    "def matrixWaysRestriction(m, n):\n",
    "    # let x[i][j] be the number of ways from (0, 0) to (i, j)\n",
    "    x = [[0 for i in range(n + 1)] for i in range(m + 1)] # 0, not 1 in initialization\n",
    "    # base case, all x[0][j] = 1 and x[i][0] = 0\n",
    "    for j in range(n + 1):\n",
    "        x[0][j] = 1\n",
    "    # iteration part\n",
    "    for i in range(1, m + 1):\n",
    "        # notice i <= j, we have ways, otherwise it is 0\n",
    "        for j in range(i, n + 1):\n",
    "            x[i][j] = x[i - 1][j] + x[i][j - 1]\n",
    "    return x[m][n]\n",
    "\n",
    "print(matrixWaysRestriction(5, 5))"
   ]
  },
  {
   "cell_type": "code",
   "execution_count": 12,
   "metadata": {},
   "outputs": [
    {
     "name": "stdout",
     "output_type": "stream",
     "text": [
      "['ABCDEFGHIJKLMN\\n', 'OPQRST\\n', 'UVWXYZ\\n', '0123456789']\n"
     ]
    }
   ],
   "source": [
    "# file read and write\n",
    "# here, I create a file called test.txt in the same file folder with ipynb file\n",
    "# the content of thie test.txt is ABCDEFGHIJKLMN\\nOPQRST\\nUVWXYZ\\n0123456789\n",
    "\n",
    "# one is relative path, the other is absolute path\n",
    "file_name1 = 'test.txt'\n",
    "file_name2 = 'C:/Users/15189/Desktop/Python基础/test.txt' # depend on your PC\n",
    "# both the two names are OK\n",
    "# sometimes the first one may meet bug, but the second one is always good!\n",
    "\n",
    "# open a file called file_name1\n",
    "# mode = 'r', means we read the file, not write\n",
    "f = open(file_name1, mode = 'r')\n",
    "# we read all the lines in list, each element in a list is a line\n",
    "datas = f.readlines()\n",
    "print(datas)\n",
    "f.close()"
   ]
  },
  {
   "cell_type": "code",
   "execution_count": 13,
   "metadata": {},
   "outputs": [],
   "source": [
    "file_name1 = 'test1.txt'\n",
    "# this file does not exist, but when we open it with writing mode, we will create it\n",
    "# mode = 'w' means we will delete all the content, and write from start\n",
    "# if we want to write in the end of the content, we choose mode = 'w+'\n",
    "f = open(file_name1, mode = 'w')\n",
    "# write a string into it\n",
    "f.write('123456\\n7890')\n",
    "# save the writing string\n",
    "f.flush()\n",
    "# close it (close will save automatically, so in fact if we write close, then we do not need flush)\n",
    "f.close()\n",
    "\n",
    "# if you want to deal with excel, then I recommend you install pandas and numpy package, which is\n",
    "# very useful when using python to do data science\n"
   ]
  },
  {
   "cell_type": "code",
   "execution_count": 19,
   "metadata": {},
   "outputs": [
    {
     "name": "stdout",
     "output_type": "stream",
     "text": [
      "['1,2,3,\\n', '4,5,6\\n', '7,8,9']\n"
     ]
    }
   ],
   "source": [
    "# last we talk about what is a csv\n",
    "# csv is a simplified version of excel (.xls file)\n",
    "# we can write 1,2,3\\n4,5,6\\n7,8,9\\n in text, and rename it as csv file\n",
    "# then after we open it in excel, we can see a table with 3 * 3\n",
    "\n",
    "f = open('test.csv', mode = 'r')\n",
    "datas = f.readlines()\n",
    "print(datas)\n",
    "f.close()\n",
    "\n",
    "# so we can transfer an excel file into csv, and handle it by python"
   ]
  }
 ],
 "metadata": {
  "kernelspec": {
   "display_name": "Python 3.10.4 64-bit",
   "language": "python",
   "name": "python3"
  },
  "language_info": {
   "codemirror_mode": {
    "name": "ipython",
    "version": 3
   },
   "file_extension": ".py",
   "mimetype": "text/x-python",
   "name": "python",
   "nbconvert_exporter": "python",
   "pygments_lexer": "ipython3",
   "version": "3.10.4"
  },
  "orig_nbformat": 4,
  "vscode": {
   "interpreter": {
    "hash": "9acb8266650dfd934fba72c534178bc8d188bd9be05e52f4b6c1c63cddd8595d"
   }
  }
 },
 "nbformat": 4,
 "nbformat_minor": 2
}
