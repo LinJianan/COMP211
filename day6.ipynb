{
 "cells": [
  {
   "cell_type": "code",
   "execution_count": 12,
   "metadata": {},
   "outputs": [
    {
     "name": "stdout",
     "output_type": "stream",
     "text": [
      "[1, 153, 370, 371, 407]\n"
     ]
    }
   ],
   "source": [
    "# The Nacci... Number: abcde... == a ** 3 + b ** 3 + c ** 3 + d ** 3 + e ** 3 + ...\n",
    "# Find all the such numbers given n so that the number is in interval [1, n]\n",
    "# Use 5 - 10 min to think and write it\n",
    "\n",
    "def find_all_nacci_number(input : int): \n",
    "    # this function helps us to determine whether a number is nacci numebr\n",
    "    def is_nacci_number(number : int):\n",
    "        # firstly we need to find all the digit\n",
    "        digits, original_number = [], number\n",
    "        # for example, we have a number 123456\n",
    "        # digits = [6, 5, 4, 3, 2, 1]\n",
    "        # if the order is important, we should add digits.reverse()\n",
    "        while number > 0:\n",
    "            digits.append(number % 10)\n",
    "            number = number // 10\n",
    "        add_sum = 0\n",
    "        for d in digits:\n",
    "            add_sum = add_sum + d ** 3\n",
    "        return add_sum == original_number\n",
    "    # input : int, this is only a reminder for the code writer, it cannot affect when we run the code\n",
    "    # this means, if use run a code like find_all_nacci_number('123456'), this is not an error\n",
    "    # do the type check, when you write function, you must consider what is valid input and you should check it\n",
    "    if type(input) != int or input < 1:\n",
    "        return []\n",
    "    result = []\n",
    "    for i in range(1, input + 1):\n",
    "        if is_nacci_number(i):\n",
    "            result.append(i)\n",
    "    # this is also write, but in order to read easily, we suggest writing code directly\n",
    "    # result = [i for i in range(1, input + 1) if is_nacci_number(i)]\n",
    "    return result\n",
    "\n",
    "print(find_all_nacci_number(1000))"
   ]
  },
  {
   "cell_type": "code",
   "execution_count": 22,
   "metadata": {},
   "outputs": [
    {
     "name": "stdout",
     "output_type": "stream",
     "text": [
      "[1729, 4104]\n"
     ]
    },
    {
     "data": {
      "text/plain": [
       "[1729, 4104]"
      ]
     },
     "execution_count": 22,
     "metadata": {},
     "output_type": "execute_result"
    }
   ],
   "source": [
    "# Taxi number, a number that can be denoted as a ** 3 + b ** 3 in at least two different ways\n",
    "# The first taxi number is 1729 = 10 ** 3 + 9 ** 3 = 12 ** 3 + 1 ** 3\n",
    "# determine whether a number is a taxi number\n",
    "# here we do not require that you should find the next number because it is very large\n",
    "def is_taxi_number(input : int):\n",
    "    flag = 0 # flag is the different number we can denote it\n",
    "    for i in range(input):\n",
    "        # this means we do not need to run the iteration any more\n",
    "        if i ** 3 >= input:\n",
    "            break\n",
    "        for j in range(input):\n",
    "            if i ** 3 + j ** 3 > input:\n",
    "                break\n",
    "            elif i ** 3 + j ** 3 == input and i <= j:\n",
    "                # for example, 9 = 1 ** 3 + 2 ** 3 = 2 ** 3 + 1 ** 3\n",
    "                # so we should consider this case\n",
    "                flag += 1\n",
    "                break\n",
    "    return flag > 1\n",
    "\n",
    "def find_all_taxi_number(number):\n",
    "    result = []\n",
    "    for i in range(number):\n",
    "        if is_taxi_number(i):\n",
    "            result.append(i)\n",
    "    print(result)\n",
    "    return result\n",
    "\n",
    "find_all_taxi_number(10000)"
   ]
  },
  {
   "cell_type": "code",
   "execution_count": null,
   "metadata": {},
   "outputs": [],
   "source": [
    "# given a list of int, a number k (int, k > 1)\n",
    "# find the consecutive part of the list so that it has the largest sum\n",
    "# For example, input = [1, 2, 3, 4] and k = 2, then obviously return [3, 4]\n",
    "# The time complexity of this is O(nk), n is len(list) and k is variable k\n",
    "def find_largest_consecutive_sum(input : list, k : int) -> list:\n",
    "    # we should check whether k is larger than the length of the input\n",
    "    if len(input) <= k:\n",
    "        return input\n",
    "    # index records the starting index\n",
    "    # temp_sum records the largest sum up to now\n",
    "    index, temp_sum = 0, sum(input[0 : k])\n",
    "    # run the iteration and update index and temp_sum\n",
    "    for i in range(1, len(input) - k + 1):\n",
    "        if temp_sum < sum(input[i : i + k]):\n",
    "            index, temp_sum = i, sum(input[i : i + k])\n",
    "    return input[index : index + k]\n",
    "\n",
    "# we have another way to finish it\n",
    "# The time eomplxity of this is O(n + k), which is much faster\n",
    "def find_largest_consecutive_sum2(input : list, k : int) -> list:\n",
    "    # we should check whether k is larger than the length of the input\n",
    "    if len(input) <= k:\n",
    "        return input\n",
    "    # index records the starting index\n",
    "    # temp_sum records the largest sum up to now\n",
    "    index, temp_sum = 0, sum(input[0 : k])\n",
    "    # we maintain a window\n",
    "    # input = [5, 3, 6, 7, 2, 5, 1, 4, 8], k = 3\n",
    "    # at first window is [5, 3, 6], index = 0, temp_sum = 5 + 3 + 6 = 14\n",
    "    # when we move it first time, we have\n",
    "    # window = [3, 6, 7], so the sum = sum - 5 + 7 -> sum = sum + 2\n",
    "    # so as long as 7 > 5, then we update index and sum\n",
    "    for i in range(1, len(input) - k + 1):\n",
    "        if input[i + k] > input[i - 1]:\n",
    "            index, temp_sum = i, temp_sum + input[i + k] - input[i - 1]\n",
    "    return input[index : index + k]"
   ]
  },
  {
   "cell_type": "code",
   "execution_count": 23,
   "metadata": {},
   "outputs": [
    {
     "name": "stdout",
     "output_type": "stream",
     "text": [
      "[1, 2, 3, 4, 5]\n"
     ]
    }
   ],
   "source": [
    "# sort an array from small to large\n",
    "# a hint, the easiest way to write is bubble sort\n",
    "# [5, 4, 3, 2, 1]\n",
    "# whenever we meet a number is larger its successive, then we swap them\n",
    "# we swap 4 and 5 and get [4, 5, 3, 2, 1] and then swap 5 and 3......\n",
    "# this needs double iteration\n",
    "\"\"\"\n",
    "[5, 4, 3, 2, 1]\n",
    "[4, 5, 3, 2, 1]\n",
    "[4, 3, 5, 2, 1]\n",
    "[4, 3, 2, 5, 1]\n",
    "[4, 3, 2, 1, 5]\n",
    "[3, 4, 2, 1, 5]\n",
    "[3, 2, 4, 1, 5]\n",
    "[3, 2, 1, 4, 5]\n",
    "[2, 3, 1, 4, 5]\n",
    "[2, 1, 3, 4, 5]\n",
    "[1, 2, 3, 4, 5]\n",
    "\"\"\"\n",
    "def my_bubble_sort(input : list) -> list:\n",
    "    # copy the list and name it result\n",
    "    result = input.copy()\n",
    "    # this means we need to scan the list n times\n",
    "    for i in range(len(result)):\n",
    "        # in each time, we check from result[0] to result[n - 1]\n",
    "        # if result[j] > result[j + 1], then swap them\n",
    "        for j in range(0, len(result) - 1):\n",
    "            if result[j] > result[j + 1]:\n",
    "                result[j], result[j + 1] = result[j + 1], result[j]\n",
    "    return result\n",
    "\n",
    "print(my_bubble_sort([5, 4, 3, 2, 1]))"
   ]
  }
 ],
 "metadata": {
  "kernelspec": {
   "display_name": "Python 3.10.4 64-bit",
   "language": "python",
   "name": "python3"
  },
  "language_info": {
   "codemirror_mode": {
    "name": "ipython",
    "version": 3
   },
   "file_extension": ".py",
   "mimetype": "text/x-python",
   "name": "python",
   "nbconvert_exporter": "python",
   "pygments_lexer": "ipython3",
   "version": "3.10.4"
  },
  "orig_nbformat": 4,
  "vscode": {
   "interpreter": {
    "hash": "9acb8266650dfd934fba72c534178bc8d188bd9be05e52f4b6c1c63cddd8595d"
   }
  }
 },
 "nbformat": 4,
 "nbformat_minor": 2
}
