{
 "cells": [
  {
   "cell_type": "code",
   "execution_count": 6,
   "metadata": {},
   "outputs": [
    {
     "name": "stdout",
     "output_type": "stream",
     "text": [
      "2022-08-18 10:27:30.000010\n",
      "1113 days, 10:27:30.000010\n",
      "1113\n"
     ]
    }
   ],
   "source": [
    "import datetime\n",
    "\n",
    "date_time_now = datetime.datetime(year = 2022, month = 8, day = 18, hour = 10, minute = 27, second = 30, microsecond = 10)\n",
    "\n",
    "print(date_time_now)\n",
    "\n",
    "date_time_past = datetime.datetime(year = 2019, month = 8, day = 1)\n",
    "\n",
    "date_time_difference = date_time_now - date_time_past\n",
    "\n",
    "print(date_time_difference)\n",
    "print(date_time_difference.days)"
   ]
  },
  {
   "cell_type": "code",
   "execution_count": 12,
   "metadata": {},
   "outputs": [
    {
     "name": "stdout",
     "output_type": "stream",
     "text": [
      "15\n",
      "15\n",
      "3\n",
      "3\n",
      "[1, 2, 3, 4, 5]\n",
      "[5, 4, 3, 2, 1]\n",
      "[3, 2, 4, 1, 5]\n"
     ]
    }
   ],
   "source": [
    "# lambda is similar to function\n",
    "def f(x):\n",
    "    return x + 10\n",
    "y = f(5)\n",
    "print(y)\n",
    "\n",
    "f = lambda x : x + 10\n",
    "print(f(5))\n",
    "\n",
    "# lambda is suitable for easy function, but if a function is very hard, then it cannot do\n",
    "\n",
    "def g(x, y):\n",
    "    return x + y\n",
    "z = g(1, 2)\n",
    "print(z)\n",
    "\n",
    "g = lambda x, y : x + y\n",
    "z = g(1, 2)\n",
    "print(z)\n",
    "\n",
    "test = [5, 4, 3, 2, 1]\n",
    "test.sort()\n",
    "print(test)\n",
    "\n",
    "test.sort(reverse = True)\n",
    "print(test)\n",
    "\n",
    "# key should be a function or lambda\n",
    "def h(x):\n",
    "    # if in sort, the first element is equal, then compare the second one\n",
    "    return [(x - 3) ** 2, x]\n",
    "\n",
    "test.sort(key = h)\n",
    "print(test)"
   ]
  },
  {
   "cell_type": "code",
   "execution_count": 17,
   "metadata": {},
   "outputs": [
    {
     "name": "stdout",
     "output_type": "stream",
     "text": [
      "There is an error\n",
      "Division by Zero\n"
     ]
    }
   ],
   "source": [
    "# print(1 / 0)\n",
    "# when we write code, wo do not want this happen, but sometimes we cannot predict\n",
    "# we can use try except structure to avoid an error breaks down the whole system\n",
    "try:\n",
    "    print(1 / 0)\n",
    "except:\n",
    "    print('There is an error')\n",
    "\n",
    "try: \n",
    "    print(1 / 0)\n",
    "except ZeroDivisionError:\n",
    "    print('Division by Zero')\n",
    "except:\n",
    "    print('Other error')"
   ]
  },
  {
   "cell_type": "code",
   "execution_count": 22,
   "metadata": {},
   "outputs": [
    {
     "name": "stdout",
     "output_type": "stream",
     "text": [
      "0.2\n",
      "0.30000000000000004\n",
      "0.020000000000000004\n",
      "0.30000\n",
      "0.020000\n"
     ]
    }
   ],
   "source": [
    "import decimal\n",
    "# transfer 0.3000000000004 to 0.30000, only 5 digits\n",
    "# also we can use other numbers\n",
    "decimal.getcontext().prec = 5\n",
    "\n",
    "print(0.1 + 0.1)\n",
    "print(0.1 + 0.2)\n",
    "print(0.1 * 0.2)\n",
    "\n",
    "# decimal is not very efficient, so unless we want to calculate something easy\n",
    "# it's not encouraged to use\n",
    "a = decimal.Decimal(0.1)\n",
    "b = decimal.Decimal(0.2)\n",
    "print(a + b)\n",
    "print(a * b)"
   ]
  },
  {
   "cell_type": "code",
   "execution_count": null,
   "metadata": {},
   "outputs": [],
   "source": [
    "# Do not run input function in ipynb file!!!!!!!\n",
    "# You can only copy this code to a python file e.g. test.py\n",
    "# Run the code in python file!!!\n",
    "s = input('Please input somthing no more than a line\\n')\n",
    "print('You input is ' + s)\n",
    "print('The length of input is ' + str(len(s)))"
   ]
  }
 ],
 "metadata": {
  "kernelspec": {
   "display_name": "Python 3.10.4 64-bit",
   "language": "python",
   "name": "python3"
  },
  "language_info": {
   "codemirror_mode": {
    "name": "ipython",
    "version": 3
   },
   "file_extension": ".py",
   "mimetype": "text/x-python",
   "name": "python",
   "nbconvert_exporter": "python",
   "pygments_lexer": "ipython3",
   "version": "3.10.4"
  },
  "orig_nbformat": 4,
  "vscode": {
   "interpreter": {
    "hash": "9acb8266650dfd934fba72c534178bc8d188bd9be05e52f4b6c1c63cddd8595d"
   }
  }
 },
 "nbformat": 4,
 "nbformat_minor": 2
}
