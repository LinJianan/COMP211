{
 "cells": [
  {
   "cell_type": "code",
   "execution_count": 1,
   "metadata": {},
   "outputs": [
    {
     "name": "stdout",
     "output_type": "stream",
     "text": [
      "hello world\n",
      "hello world\n",
      "hello world\n",
      "hello world\n",
      "hello world\n",
      "hello world\n",
      "hello world\n",
      "hello world\n",
      "hello world\n",
      "hello world\n",
      "hello world\n",
      "hello world\n",
      "hello world\n",
      "hello world\n",
      "hello world\n",
      "hello world\n",
      "hello world\n",
      "hello world\n",
      "hello world\n",
      "hello world\n",
      "hello world\n",
      "hello world\n",
      "hello world\n",
      "hello world\n",
      "hello world\n",
      "20\n"
     ]
    }
   ],
   "source": [
    "# Problem 1, 6 credits = 3 + 3\n",
    "# how many lines of hello world?\n",
    "# what is the result?\n",
    "def problem1(num: int) -> int:\n",
    "    print('hello world')\n",
    "    if num in [0, 1, 2]:\n",
    "        return num\n",
    "    else:\n",
    "        return problem1(num - 1) + problem1(num - 2) + problem1(num - 3)\n",
    "\n",
    "result = problem1(6)\n",
    "\n",
    "\"\"\"\n",
    "let f denote function problem1\n",
    "f(6) = f(5) + f(4) + f(3) = (f(4) + f(3) + f(2)) + (f(3) + f(2) + f(1)) + (f(2) + f(1) + f(0))\n",
    "     = f(4) + f(3) + f(3) + 3 * 2 + 2 * 1 + 1 * 0 = f(4) + f(3) + f(3) + 8\n",
    "     = (f(3) + f(2) + f(1)) + (f(2) + f(1) + f(0)) + (f(2) + f(1) + f(0)) + 8\n",
    "     = f(3) + 9 + 8 = f(2) + f(1) + f(0) + 9 + 8 = 3 + 9 + 8 = 20\n",
    "how many lines of hello world?\n",
    "The initial step: f(6) -> 1\n",
    "The first step: f(6) = f(5) + f(4) + f(3) -> 3\n",
    "The second step: f(5) + f(4) + f(3) = (f(4) + f(3) + f(2)) + (f(3) + f(2) + f(1)) + (f(2) + f(1) + f(0)) -> 9 lines\n",
    "The third step: f(4) + f(3) + f(3) = (f(3) + f(2) + f(1)) + (f(2) + f(1) + f(0)) + (f(2) + f(1) + f(0)) -> 9 lines\n",
    "The forth step: f(3) = f(2) + f(1) + f(0) -> 3 lines\n",
    "The total number of lines is 1 + 3 + 9 + 9 + 3 = 25\n",
    "\"\"\"\n",
    "\n",
    "print(result)"
   ]
  },
  {
   "cell_type": "code",
   "execution_count": 2,
   "metadata": {},
   "outputs": [
    {
     "name": "stdout",
     "output_type": "stream",
     "text": [
      "hello world\n",
      "hello world\n",
      "hello world\n",
      "hello world\n",
      "hello world\n",
      "hello world\n",
      "hello world\n",
      "20\n"
     ]
    }
   ],
   "source": [
    "# Problem 2, 6 credits = 3 + 3\n",
    "# how many lines of hello world?\n",
    "# what is the result?\n",
    "import functools\n",
    "@functools.cache\n",
    "def problem2(num: int) -> int:\n",
    "    print('hello world')\n",
    "    if num in [0, 1, 2]:\n",
    "        return num\n",
    "    else:\n",
    "        return problem2(num - 1) + problem2(num - 2) + problem2(num - 3)\n",
    "\n",
    "result = problem2(6)\n",
    "\n",
    "\"\"\"\n",
    "result is the same, 20\n",
    "how many lines?\n",
    "Since we want to calculate f(6), we only need to use the value of f(0) ~ f(6)\n",
    "first time we visit each f(x), we will print a line\n",
    "then we will record the result and do not need to print it again\n",
    "So the answer is 6 - 0 + 1 = 7\n",
    "\"\"\"\n",
    "\n",
    "print(result)"
   ]
  },
  {
   "cell_type": "code",
   "execution_count": 3,
   "metadata": {},
   "outputs": [
    {
     "name": "stdout",
     "output_type": "stream",
     "text": [
      "0\t3\t6\t9\t12\t15\t18\t"
     ]
    }
   ],
   "source": [
    "# Problem 3, 3 credits\n",
    "# What is the printing result?\n",
    "array = [i for i in range(20)]\n",
    "# 0, 3, 6, 9, 12, 15, 18\n",
    "for i in range(0, 20, 3):\n",
    "    print(array[i], end = \"\\t\")\n",
    "\n",
    "# remember the following things\n",
    "# 1. define a list, we can use three ways usually.\n",
    "# One is to write it directly such as [1, 2, 3]; Two is to use iteration such as [i for i in range(1, 4)]; Three is [1, 2, 3] * 3\n",
    "# 2. range(a, b, c) means from a to b and does not include b, c is the step, so the result is a, a + c, a + 2c, ..., a + xc < b\n",
    "# 3. print(str, end = '???'), here end means after we print str, what we will print. If we do not set it, then end = '\\n'"
   ]
  },
  {
   "cell_type": "code",
   "execution_count": 4,
   "metadata": {},
   "outputs": [
    {
     "name": "stdout",
     "output_type": "stream",
     "text": [
      "HellodlroWMyemaNIsboB\n"
     ]
    }
   ],
   "source": [
    "# Problem 4, 3 credits\n",
    "# What is the printing result?\n",
    "s = 'Hello World My Name Is Bob'\n",
    "data = s.split(' ')\n",
    "# data = ['Hello', 'World', 'My', 'Name', 'Is', 'Bob']\n",
    "result = \"\"\n",
    "# for index being even such as 0, we add the word directly, otherwise we add the reversed word\n",
    "# so Hello + dlroW + My + emaN + Is + boB\n",
    "for i in range(len(data)):\n",
    "    if i % 2 == 0:\n",
    "        result = result + data[i]\n",
    "    else:\n",
    "        result = result + data[i][::-1]\n",
    "print(result)"
   ]
  },
  {
   "cell_type": "code",
   "execution_count": 5,
   "metadata": {},
   "outputs": [
    {
     "name": "stdout",
     "output_type": "stream",
     "text": [
      "17\n",
      "13\n"
     ]
    }
   ],
   "source": [
    "# Problem 5, 6 credits = 3 + 3\n",
    "# What is the printing result?\n",
    "data1, data2 = [], []\n",
    "for i in range(20):\n",
    "    if i % 2 == 0:\n",
    "        data1.append(i)\n",
    "# data1 = [0, 2, 4, 6, 8, 10, 12, 14, 16, 18]\n",
    "for i in range(20):\n",
    "    if i % 3 == 0:\n",
    "        data2.append(i)\n",
    "# data2 = [0, 3, 6, 9, 12, 15, 18]\n",
    "data = data1 + data2\n",
    "# data = [0, 2, 4, 6, 8, 10, 12, 14, 16, 18, 0, 3, 6, 9, 12, 15, 18]\n",
    "# len(data) = 10 + 7 = 17\n",
    "print(len(data))\n",
    "# but set only includes different elements, so\n",
    "# set(data) = {0, 2, 3, 4, 6, 8, 9, 10, 12, 14, 15, 16, 18}\n",
    "# so len(set(data)) = 13\n",
    "data = set(data)\n",
    "print(len(data))"
   ]
  },
  {
   "cell_type": "code",
   "execution_count": 7,
   "metadata": {},
   "outputs": [
    {
     "name": "stdout",
     "output_type": "stream",
     "text": [
      "[1, 2, 3, 3, 4, 5]\n"
     ]
    }
   ],
   "source": [
    "# Problem 6, 3 credits\n",
    "# What is the result?\n",
    "string = 'abcabcdddeefababac'\n",
    "# count the letter frequency of each letter\n",
    "dic = {}\n",
    "for e in string:\n",
    "    if e in dic:\n",
    "        dic[e] += 1\n",
    "    else:\n",
    "        dic[e] = 1\n",
    "# so the answer is what? let's see\n",
    "# print(dic) \n",
    "# so dic = {'a': 5, 'b': 4, 'c': 3, 'd': 3, 'e': 2, 'f': 1}\n",
    "result = [val for key, val in dic.items()]\n",
    "# dic.items = [(key1, val1), (key2, val2), (key3, val3), ...]\n",
    "# so result = [5, 4, 3, 3, 2, 1]\n",
    "# result.sort() -> [1, 2, 3, 3, 4, 5]\n",
    "result.sort()\n",
    "print(result)"
   ]
  },
  {
   "cell_type": "code",
   "execution_count": 8,
   "metadata": {},
   "outputs": [
    {
     "name": "stdout",
     "output_type": "stream",
     "text": [
      "[1, 2, 4, 5, 7, 8, 10, 11]\n"
     ]
    }
   ],
   "source": [
    "# Problem 7, 3 credits\n",
    "# What is the result?\n",
    "i = 0\n",
    "result = []\n",
    "# for i from 1 to 20 (including 20), if i^2 % 3 == 0, which is the same as i % 3 == 0, then we continue\n",
    "# else we let result.append(i), notice, when i > 10, we break\n",
    "# so append 1, append 2, continue 3, append 4, append 5, continue 6, append 7, append 8, continue 9\n",
    "# append 10, append 11 then break\n",
    "while i < 20:\n",
    "    i += 1\n",
    "    if i ** 2 % 3 == 0:\n",
    "        continue\n",
    "    else:\n",
    "        result.append(i)\n",
    "    if i ** 2 > 100:\n",
    "        break\n",
    "print(result)"
   ]
  }
 ],
 "metadata": {
  "kernelspec": {
   "display_name": "Python 3.10.4 64-bit",
   "language": "python",
   "name": "python3"
  },
  "language_info": {
   "codemirror_mode": {
    "name": "ipython",
    "version": 3
   },
   "file_extension": ".py",
   "mimetype": "text/x-python",
   "name": "python",
   "nbconvert_exporter": "python",
   "pygments_lexer": "ipython3",
   "version": "3.10.4"
  },
  "orig_nbformat": 4,
  "vscode": {
   "interpreter": {
    "hash": "9acb8266650dfd934fba72c534178bc8d188bd9be05e52f4b6c1c63cddd8595d"
   }
  }
 },
 "nbformat": 4,
 "nbformat_minor": 2
}
